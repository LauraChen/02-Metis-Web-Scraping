{
 "cells": [
  {
   "cell_type": "markdown",
   "metadata": {},
   "source": [
    "Name: response.xpath('//*[@id=\"maincontent2\"]/div[1]/h1/text()').extract()\n",
    "Transparency score (third list item): response.xpath('//div[@class=\"shadedtable\"]/table/tr/td/text()').extract()\n",
    "State (second in here): response.xpath('//*[@id=\"leftnavcontent\"]/div/p[1]/text()[2]').extract()\n",
    "zip code: response.xpath('//div[@class=\"rating\"]/p/text()').re(r'[\\d]{5}')[0]\n",
    "CEO Salary: response.xpath('//td[@class=\"text-no-wrap\"]/span/text()').extract()\n",
    "Revenue and expenses: response.xpath('//div[@class=\"accordion-item-bd rating\"]/table/tr/td/strong/text()').extract()\n",
    "\n",
    "Income Statement: response.xpath('//div[@class=\"accordion-item-bd rating\"]/table/tr/td[@align=\"right\"]/text()').extract()\n",
    "\n",
    "List of next page URLs: response.xpath('//table[@class=\"pageNav\"]/tr/td/a').extract()\n",
    "list of Charity Names: response.xpath('//*[@id=\"searchresults\"]/table/tbody/tr/td/div/h3/a/text()').extract()\n",
    "list of links to charities: response.xpath('//*[@id=\"searchresults\"]/table/tbody/tr/td/div/h3/a/@href').extract()\n",
    "\n",
    "xpath of popup on chart: response.xpath('//*[@id=\"chart_capacity\"]/div/div[1]/div/svg/g[4]/text()').extract()"
   ]
  },
  {
   "cell_type": "markdown",
   "metadata": {},
   "source": [
    "# To Do\n",
    "\n",
    "Would it be more interesting to look at the percentage of funds spent on administration/marketing?\n",
    "Test tpscore in scrapy shell and add to analysis\n",
    "add State to analysis\n",
    "How can I identify if a charity is operating at the national level?\n",
    "\n",
    "Challenges:\n",
    "Bad charities have a lot of missing data"
   ]
  },
  {
   "cell_type": "code",
   "execution_count": 273,
   "metadata": {},
   "outputs": [],
   "source": [
    "import json\n",
    "from pprint import pprint\n",
    "import pandas as pd\n",
    "import numpy as np\n",
    "import matplotlib.pyplot as plt\n",
    "from sklearn.linear_model import LinearRegression\n",
    "from sklearn.cross_validation import train_test_split\n",
    "from selenium import webdriver\n",
    "\n",
    "%matplotlib inline"
   ]
  },
  {
   "cell_type": "code",
   "execution_count": 226,
   "metadata": {},
   "outputs": [],
   "source": [
    "#Reading in the data from the scrapy spider that scraped the Charity Navigator website\n",
    "data = json.load(open('charities.json'))"
   ]
  },
  {
   "cell_type": "code",
   "execution_count": 227,
   "metadata": {},
   "outputs": [
    {
     "name": "stdout",
     "output_type": "stream",
     "text": [
      "<class 'pandas.core.frame.DataFrame'>\n",
      "RangeIndex: 308 entries, 0 to 307\n",
      "Data columns (total 8 columns):\n",
      "CEOsalary     308 non-null object\n",
      "admin_exp     308 non-null object\n",
      "mkting_exp    308 non-null object\n",
      "name          308 non-null object\n",
      "revenue       308 non-null object\n",
      "state         308 non-null object\n",
      "tpscore       308 non-null object\n",
      "url           308 non-null object\n",
      "dtypes: object(8)\n",
      "memory usage: 19.3+ KB\n"
     ]
    }
   ],
   "source": [
    "df=pd.DataFrame(data)\n",
    "df.info()"
   ]
  },
  {
   "cell_type": "code",
   "execution_count": 228,
   "metadata": {},
   "outputs": [],
   "source": [
    "#cleaning up the data\n",
    "df.CEOsalary=df.CEOsalary.str.strip()\n",
    "df.CEOsalary.replace(to_replace=[\"None reported\",\"Not compensated\"],value=np.NaN,inplace=True)\n",
    "\n",
    "#converting the cash strings into floats\n",
    "num_cols=['CEOsalary','admin_exp','mkting_exp','revenue','tpscore']\n",
    "for col in num_cols:\n",
    "    df[col]=df[col].str.replace(\"$\",\"\").str.replace(\",\",\"\").apply(float)"
   ]
  },
  {
   "cell_type": "code",
   "execution_count": 229,
   "metadata": {
    "collapsed": true
   },
   "outputs": [],
   "source": [
    "#Summing the administrative expenses and marketing expenses\n",
    "df['mkting_percent']=df['mkting_exp']/df['revenue']"
   ]
  },
  {
   "cell_type": "code",
   "execution_count": 261,
   "metadata": {},
   "outputs": [],
   "source": [
    "#Removed bottom quantile as small charities skew the data\n",
    "df=df[df['revenue']>df['revenue'].quantile(.25)]\n",
    "#Selecting the desired columns for analysis\n",
    "df_clean = df.loc[:,['name','revenue','state','mkting_percent','tpscore']].set_index('name')"
   ]
  },
  {
   "cell_type": "code",
   "execution_count": 264,
   "metadata": {},
   "outputs": [
    {
     "name": "stdout",
     "output_type": "stream",
     "text": [
      "<class 'pandas.core.frame.DataFrame'>\n",
      "Index: 231 entries, Animal Humane Society to The Animal Medical Center\n",
      "Data columns (total 4 columns):\n",
      "revenue           231 non-null float64\n",
      "state             231 non-null object\n",
      "mkting_percent    231 non-null float64\n",
      "tpscore           231 non-null float64\n",
      "dtypes: float64(3), object(1)\n",
      "memory usage: 9.0+ KB\n"
     ]
    }
   ],
   "source": [
    "df_clean.info()"
   ]
  },
  {
   "cell_type": "code",
   "execution_count": 232,
   "metadata": {},
   "outputs": [
    {
     "name": "stdout",
     "output_type": "stream",
     "text": [
      "<class 'pandas.core.frame.DataFrame'>\n",
      "Index: 308 entries, Animal Humane Society to The Animal Medical Center\n",
      "Data columns (total 4 columns):\n",
      "revenue           308 non-null float64\n",
      "state             308 non-null object\n",
      "mkting_percent    308 non-null float64\n",
      "tpscore           308 non-null float64\n",
      "dtypes: float64(3), object(1)\n",
      "memory usage: 12.0+ KB\n"
     ]
    }
   ],
   "source": [
    "#Checking out the high level information on the DF\n",
    "df_clean.info()"
   ]
  },
  {
   "cell_type": "code",
   "execution_count": 265,
   "metadata": {},
   "outputs": [
    {
     "data": {
      "text/html": [
       "<div>\n",
       "<style scoped>\n",
       "    .dataframe tbody tr th:only-of-type {\n",
       "        vertical-align: middle;\n",
       "    }\n",
       "\n",
       "    .dataframe tbody tr th {\n",
       "        vertical-align: top;\n",
       "    }\n",
       "\n",
       "    .dataframe thead th {\n",
       "        text-align: right;\n",
       "    }\n",
       "</style>\n",
       "<table border=\"1\" class=\"dataframe\">\n",
       "  <thead>\n",
       "    <tr style=\"text-align: right;\">\n",
       "      <th></th>\n",
       "      <th>revenue</th>\n",
       "      <th>mkting_percent</th>\n",
       "      <th>tpscore</th>\n",
       "    </tr>\n",
       "  </thead>\n",
       "  <tbody>\n",
       "    <tr>\n",
       "      <th>count</th>\n",
       "      <td>2.310000e+02</td>\n",
       "      <td>231.000000</td>\n",
       "      <td>231.000000</td>\n",
       "    </tr>\n",
       "    <tr>\n",
       "      <th>mean</th>\n",
       "      <td>6.788431e+06</td>\n",
       "      <td>0.141600</td>\n",
       "      <td>93.753247</td>\n",
       "    </tr>\n",
       "    <tr>\n",
       "      <th>std</th>\n",
       "      <td>1.660128e+07</td>\n",
       "      <td>0.079753</td>\n",
       "      <td>8.384493</td>\n",
       "    </tr>\n",
       "    <tr>\n",
       "      <th>min</th>\n",
       "      <td>1.214401e+06</td>\n",
       "      <td>0.009683</td>\n",
       "      <td>47.000000</td>\n",
       "    </tr>\n",
       "    <tr>\n",
       "      <th>25%</th>\n",
       "      <td>1.754010e+06</td>\n",
       "      <td>0.073623</td>\n",
       "      <td>92.000000</td>\n",
       "    </tr>\n",
       "    <tr>\n",
       "      <th>50%</th>\n",
       "      <td>2.705371e+06</td>\n",
       "      <td>0.134368</td>\n",
       "      <td>96.000000</td>\n",
       "    </tr>\n",
       "    <tr>\n",
       "      <th>75%</th>\n",
       "      <td>5.181990e+06</td>\n",
       "      <td>0.191920</td>\n",
       "      <td>100.000000</td>\n",
       "    </tr>\n",
       "    <tr>\n",
       "      <th>max</th>\n",
       "      <td>1.827055e+08</td>\n",
       "      <td>0.431593</td>\n",
       "      <td>100.000000</td>\n",
       "    </tr>\n",
       "  </tbody>\n",
       "</table>\n",
       "</div>"
      ],
      "text/plain": [
       "            revenue  mkting_percent     tpscore\n",
       "count  2.310000e+02      231.000000  231.000000\n",
       "mean   6.788431e+06        0.141600   93.753247\n",
       "std    1.660128e+07        0.079753    8.384493\n",
       "min    1.214401e+06        0.009683   47.000000\n",
       "25%    1.754010e+06        0.073623   92.000000\n",
       "50%    2.705371e+06        0.134368   96.000000\n",
       "75%    5.181990e+06        0.191920  100.000000\n",
       "max    1.827055e+08        0.431593  100.000000"
      ]
     },
     "execution_count": 265,
     "metadata": {},
     "output_type": "execute_result"
    }
   ],
   "source": [
    "#Reviewing the summary statistics\n",
    "df_clean.describe()"
   ]
  },
  {
   "cell_type": "code",
   "execution_count": 260,
   "metadata": {},
   "outputs": [
    {
     "data": {
      "text/html": [
       "<div>\n",
       "<style scoped>\n",
       "    .dataframe tbody tr th:only-of-type {\n",
       "        vertical-align: middle;\n",
       "    }\n",
       "\n",
       "    .dataframe tbody tr th {\n",
       "        vertical-align: top;\n",
       "    }\n",
       "\n",
       "    .dataframe thead th {\n",
       "        text-align: right;\n",
       "    }\n",
       "</style>\n",
       "<table border=\"1\" class=\"dataframe\">\n",
       "  <thead>\n",
       "    <tr style=\"text-align: right;\">\n",
       "      <th></th>\n",
       "      <th>revenue</th>\n",
       "      <th>state</th>\n",
       "      <th>mkting_percent</th>\n",
       "      <th>tpscore</th>\n",
       "    </tr>\n",
       "    <tr>\n",
       "      <th>name</th>\n",
       "      <th></th>\n",
       "      <th></th>\n",
       "      <th></th>\n",
       "      <th></th>\n",
       "    </tr>\n",
       "  </thead>\n",
       "  <tbody>\n",
       "    <tr>\n",
       "      <th>American Society for the Prevention of Cruelty to Animals</th>\n",
       "      <td>182705546.0</td>\n",
       "      <td>NY</td>\n",
       "      <td>0.214410</td>\n",
       "      <td>97.0</td>\n",
       "    </tr>\n",
       "    <tr>\n",
       "      <th>The Humane Society of the United States</th>\n",
       "      <td>126104650.0</td>\n",
       "      <td>NW</td>\n",
       "      <td>0.228937</td>\n",
       "      <td>96.0</td>\n",
       "    </tr>\n",
       "    <tr>\n",
       "      <th>Best Friends Animal Society</th>\n",
       "      <td>85484292.0</td>\n",
       "      <td>UT</td>\n",
       "      <td>0.159237</td>\n",
       "      <td>100.0</td>\n",
       "    </tr>\n",
       "    <tr>\n",
       "      <th>People for the Ethical Treatment of Animals</th>\n",
       "      <td>63070410.0</td>\n",
       "      <td>VA</td>\n",
       "      <td>0.106112</td>\n",
       "      <td>82.0</td>\n",
       "    </tr>\n",
       "    <tr>\n",
       "      <th>PetSmart Charities</th>\n",
       "      <td>49409357.0</td>\n",
       "      <td>AZ</td>\n",
       "      <td>0.041389</td>\n",
       "      <td>100.0</td>\n",
       "    </tr>\n",
       "  </tbody>\n",
       "</table>\n",
       "</div>"
      ],
      "text/plain": [
       "                                                        revenue state  \\\n",
       "name                                                                    \n",
       "American Society for the Prevention of Cruelty ...  182705546.0    NY   \n",
       "The Humane Society of the United States             126104650.0    NW   \n",
       "Best Friends Animal Society                          85484292.0    UT   \n",
       "People for the Ethical Treatment of Animals          63070410.0    VA   \n",
       "PetSmart Charities                                   49409357.0    AZ   \n",
       "\n",
       "                                                    mkting_percent  tpscore  \n",
       "name                                                                         \n",
       "American Society for the Prevention of Cruelty ...        0.214410     97.0  \n",
       "The Humane Society of the United States                   0.228937     96.0  \n",
       "Best Friends Animal Society                               0.159237    100.0  \n",
       "People for the Ethical Treatment of Animals               0.106112     82.0  \n",
       "PetSmart Charities                                        0.041389    100.0  "
      ]
     },
     "execution_count": 260,
     "metadata": {},
     "output_type": "execute_result"
    }
   ],
   "source": [
    "df_clean.sort_values(by=\"revenue\", ascending=False).head()"
   ]
  },
  {
   "cell_type": "code",
   "execution_count": 266,
   "metadata": {},
   "outputs": [
    {
     "data": {
      "image/png": "[encoded data removed]",
      "text/plain": [
       "<matplotlib.figure.Figure at 0x1a185e5a90>"
      ]
     },
     "metadata": {},
     "output_type": "display_data"
    }
   ],
   "source": [
    "df_clean.mkting_percent.sort_values().head(20).plot(kind='barh',title='Percentage of Marketing Spend by Charity',colormap='Blues_r');"
   ]
  },
  {
   "cell_type": "code",
   "execution_count": 267,
   "metadata": {},
   "outputs": [
    {
     "data": {
      "text/plain": [
       "CA    37\n",
       "NY    22\n",
       "FL    14\n",
       "PA    14\n",
       "TX    14\n",
       "OH     8\n",
       "CO     8\n",
       "VA     7\n",
       "MD     7\n",
       "AZ     7\n",
       "MA     6\n",
       "NC     6\n",
       "WA     6\n",
       "NW     6\n",
       "IL     6\n",
       "MI     5\n",
       "NE     5\n",
       "SC     4\n",
       "KY     3\n",
       "SE     3\n",
       "WI     3\n",
       "NJ     3\n",
       "CT     3\n",
       "KS     3\n",
       "MO     3\n",
       "MN     2\n",
       "OR     2\n",
       "UT     2\n",
       "NM     2\n",
       "IN     2\n",
       "ME     2\n",
       "ID     2\n",
       "NV     1\n",
       "GA     1\n",
       "MT     1\n",
       "DC     1\n",
       "LP     1\n",
       "IA     1\n",
       "DE     1\n",
       "OK     1\n",
       "NH     1\n",
       "LA     1\n",
       "HI     1\n",
       "TN     1\n",
       "RI     1\n",
       "WV     1\n",
       "Name: state, dtype: int64"
      ]
     },
     "execution_count": 267,
     "metadata": {},
     "output_type": "execute_result"
    }
   ],
   "source": [
    "df_clean.state.value_counts()"
   ]
  },
  {
   "cell_type": "code",
   "execution_count": 268,
   "metadata": {},
   "outputs": [
    {
     "data": {
      "image/png": "[encoded data removed]",
      "text/plain": [
       "<matplotlib.figure.Figure at 0x1a1851af60>"
      ]
     },
     "metadata": {},
     "output_type": "display_data"
    }
   ],
   "source": [
    "df.tpscore.hist().set_title('Transparency Scores');"
   ]
  },
  {
   "cell_type": "code",
   "execution_count": 272,
   "metadata": {},
   "outputs": [
    {
     "name": "stdout",
     "output_type": "stream",
     "text": [
      "Linear Regression: \n",
      " score:  0.00799653814744 \n",
      " intercept:  -8670579.23077 \n",
      " coefficients: [ 10318366.89785472    149306.03233202]\n"
     ]
    }
   ],
   "source": [
    "lr = LinearRegression()\n",
    "X = df_clean.iloc[:, 2:]\n",
    "# Choose the response variable(s)\n",
    "y = df_clean.iloc[:, 0]\n",
    "# Fit the model to the full dataset\n",
    "lr.fit(X, y)\n",
    "# Print out the R^2 for the model against the full dataset\n",
    "print('Linear Regression: \\n score: ',lr.score(X,y),'\\n intercept: ',lr.intercept_,'\\n coefficients:',lr.coef_)"
   ]
  },
  {
   "cell_type": "code",
   "execution_count": 242,
   "metadata": {},
   "outputs": [],
   "source": [
    "y_pred = lr.predict(X)"
   ]
  },
  {
   "cell_type": "code",
   "execution_count": 243,
   "metadata": {},
   "outputs": [
    {
     "data": {
      "text/plain": [
       "[<matplotlib.lines.Line2D at 0x1a15fd3828>]"
      ]
     },
     "execution_count": 243,
     "metadata": {},
     "output_type": "execute_result"
    },
    {
     "data": {
      "image/png": "[encoded data removed]",
      "text/plain": [
       "<matplotlib.figure.Figure at 0x1a175e3748>"
      ]
     },
     "metadata": {},
     "output_type": "display_data"
    }
   ],
   "source": [
    "plt.plot(y, y_pred)"
   ]
  },
  {
   "cell_type": "code",
   "execution_count": null,
   "metadata": {
    "collapsed": true
   },
   "outputs": [],
   "source": []
  },
  {
   "cell_type": "code",
   "execution_count": null,
   "metadata": {
    "collapsed": true
   },
   "outputs": [],
   "source": [
    "X_train, X_test, y_train, y_test = train_test_split(X, y, test_size=0.33, random_state=42)"
   ]
  },
  {
   "cell_type": "code",
   "execution_count": null,
   "metadata": {},
   "outputs": [],
   "source": []
  },
  {
   "cell_type": "code",
   "execution_count": 270,
   "metadata": {},
   "outputs": [
    {
     "data": {
      "text/html": [
       "<div>\n",
       "<style scoped>\n",
       "    .dataframe tbody tr th:only-of-type {\n",
       "        vertical-align: middle;\n",
       "    }\n",
       "\n",
       "    .dataframe tbody tr th {\n",
       "        vertical-align: top;\n",
       "    }\n",
       "\n",
       "    .dataframe thead th {\n",
       "        text-align: right;\n",
       "    }\n",
       "</style>\n",
       "<table border=\"1\" class=\"dataframe\">\n",
       "  <thead>\n",
       "    <tr style=\"text-align: right;\">\n",
       "      <th></th>\n",
       "      <th>revenue</th>\n",
       "      <th>state</th>\n",
       "      <th>mkting_percent</th>\n",
       "      <th>tpscore</th>\n",
       "    </tr>\n",
       "    <tr>\n",
       "      <th>name</th>\n",
       "      <th></th>\n",
       "      <th></th>\n",
       "      <th></th>\n",
       "      <th></th>\n",
       "    </tr>\n",
       "  </thead>\n",
       "  <tbody>\n",
       "    <tr>\n",
       "      <th>Animal Humane Society</th>\n",
       "      <td>10968319.0</td>\n",
       "      <td>MN</td>\n",
       "      <td>0.288273</td>\n",
       "      <td>100.0</td>\n",
       "    </tr>\n",
       "    <tr>\n",
       "      <th>Animal Humane New Mexico</th>\n",
       "      <td>4267806.0</td>\n",
       "      <td>SE</td>\n",
       "      <td>0.154028</td>\n",
       "      <td>100.0</td>\n",
       "    </tr>\n",
       "    <tr>\n",
       "      <th>Animal Haven</th>\n",
       "      <td>3928159.0</td>\n",
       "      <td>NY</td>\n",
       "      <td>0.063745</td>\n",
       "      <td>73.0</td>\n",
       "    </tr>\n",
       "    <tr>\n",
       "      <th>Animal Friends</th>\n",
       "      <td>6472921.0</td>\n",
       "      <td>PA</td>\n",
       "      <td>0.069337</td>\n",
       "      <td>97.0</td>\n",
       "    </tr>\n",
       "    <tr>\n",
       "      <th>Animal Defense League of Texas</th>\n",
       "      <td>5115734.0</td>\n",
       "      <td>TX</td>\n",
       "      <td>0.031449</td>\n",
       "      <td>97.0</td>\n",
       "    </tr>\n",
       "  </tbody>\n",
       "</table>\n",
       "</div>"
      ],
      "text/plain": [
       "                                   revenue state  mkting_percent  tpscore\n",
       "name                                                                     \n",
       "Animal Humane Society           10968319.0    MN        0.288273    100.0\n",
       "Animal Humane New Mexico         4267806.0    SE        0.154028    100.0\n",
       "Animal Haven                     3928159.0    NY        0.063745     73.0\n",
       "Animal Friends                   6472921.0    PA        0.069337     97.0\n",
       "Animal Defense League of Texas   5115734.0    TX        0.031449     97.0"
      ]
     },
     "execution_count": 270,
     "metadata": {},
     "output_type": "execute_result"
    }
   ],
   "source": [
    "df_clean.head()"
   ]
  },
  {
   "cell_type": "code",
   "execution_count": null,
   "metadata": {
    "collapsed": true
   },
   "outputs": [],
   "source": []
  }
 ],
 "metadata": {
  "kernelspec": {
   "display_name": "Python 3",
   "language": "python",
   "name": "python3"
  },
  "language_info": {
   "codemirror_mode": {
    "name": "ipython",
    "version": 3
   },
   "file_extension": ".py",
   "mimetype": "text/x-python",
   "name": "python",
   "nbconvert_exporter": "python",
   "pygments_lexer": "ipython3",
   "version": "3.6.2"
  }
 },
 "nbformat": 4,
 "nbformat_minor": 2
}
