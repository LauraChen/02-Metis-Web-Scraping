{
 "cells": [
  {
   "cell_type": "markdown",
   "metadata": {},
   "source": [
    "# Project02 - Charity Navigator\n",
    "\n",
    "The goal of this project is to understand predictors for charity effictiveness. "
   ]
  },
  {
   "cell_type": "code",
   "execution_count": 3576,
   "metadata": {},
   "outputs": [],
   "source": [
    "import pandas as pd\n",
    "import numpy as np\n",
    "import matplotlib.pyplot as plt\n",
    "import seaborn as sns\n",
    "\n",
    "from sklearn.linear_model import LinearRegression\n",
    "from sklearn.model_selection import train_test_split\n",
    "from datetime import datetime\n",
    "import statsmodels.api as sm\n",
    "import statsmodels.formula.api as smf\n",
    "from sklearn.pipeline import make_pipeline\n",
    "from sklearn.pipeline import Pipeline\n",
    "from sklearn.preprocessing import PolynomialFeatures\n",
    "\n",
    "import patsy\n",
    "\n",
    "%matplotlib inline"
   ]
  },
  {
   "cell_type": "code",
   "execution_count": 3780,
   "metadata": {},
   "outputs": [],
   "source": [
    "#Reading in the data from the scrapy spider (Charity_Spider.py) that scraped the Charity Navigator website\n",
    "df = pd.read_json('charities2.json', orient = 'records')\n",
    "#, dtype={\"url\":str}"
   ]
  },
  {
   "cell_type": "code",
   "execution_count": 3781,
   "metadata": {},
   "outputs": [],
   "source": [
    "#df.to_csv('charity.csv')"
   ]
  },
  {
   "cell_type": "code",
   "execution_count": 3782,
   "metadata": {
    "scrolled": false
   },
   "outputs": [
    {
     "name": "stdout",
     "output_type": "stream",
     "text": [
      "<class 'pandas.core.frame.DataFrame'>\n",
      "Int64Index: 270 entries, 0 to 269\n",
      "Data columns (total 18 columns):\n",
      "CEOsalary               270 non-null object\n",
      "admin_exp               270 non-null object\n",
      "gov_grant               270 non-null object\n",
      "liab_to_assets          270 non-null object\n",
      "mkting_exp              270 non-null object\n",
      "name                    270 non-null object\n",
      "perc_admin_exp          270 non-null object\n",
      "perc_fundraising_exp    270 non-null object\n",
      "perc_program_exp        270 non-null object\n",
      "prog_rev                270 non-null object\n",
      "program_exp_growth      270 non-null object\n",
      "revenue                 270 non-null object\n",
      "service_rev             270 non-null object\n",
      "state                   270 non-null object\n",
      "tpscore                 270 non-null int64\n",
      "url                     270 non-null object\n",
      "wking_cap_ratio         270 non-null object\n",
      "yr_founded              270 non-null int64\n",
      "dtypes: int64(2), object(16)\n",
      "memory usage: 40.1+ KB\n"
     ]
    }
   ],
   "source": [
    "df.info()"
   ]
  },
  {
   "cell_type": "markdown",
   "metadata": {},
   "source": [
    "# Cleaning up the data"
   ]
  },
  {
   "cell_type": "code",
   "execution_count": 3783,
   "metadata": {},
   "outputs": [],
   "source": [
    "# Filling in low values\n",
    "df.loc[df['liab_to_assets']=='< 0.1%', 'liab_to_assets']='0'\n",
    "df.loc[df['wking_cap_ratio']=='< 0.01','wking_cap_ratio']='0'"
   ]
  },
  {
   "cell_type": "code",
   "execution_count": 3784,
   "metadata": {},
   "outputs": [],
   "source": [
    "#converting the numerical strings into floats\n",
    "num_cols=['CEOsalary','admin_exp','mkting_exp','revenue','wking_cap_ratio','gov_grant','service_rev','prog_rev']\n",
    "for col in num_cols:\n",
    "    df[col]=df[col].replace({r'[$|,|%]':''}, regex = True).apply(float)\n",
    "\n",
    "#converting percentage strings to floats\n",
    "perc_cols=['perc_fundraising_exp','perc_program_exp','program_exp_growth','liab_to_assets','perc_admin_exp']\n",
    "for col in perc_cols:\n",
    "    df[col]=df[col].str.replace(\"%\",\"\").apply(float)/100\n",
    "    \n",
    "#converting year string to datetime\n",
    "df['yr_founded']=pd.to_datetime(df['yr_founded'],format= '%Y')"
   ]
  },
  {
   "cell_type": "markdown",
   "metadata": {},
   "source": [
    "## Data Engineering"
   ]
  },
  {
   "cell_type": "code",
   "execution_count": 3785,
   "metadata": {},
   "outputs": [],
   "source": [
    "# Finding the age of the charity based on the year founded\n",
    "df['age']=(datetime.now()-df['yr_founded']).astype('timedelta64[Y]')"
   ]
  },
  {
   "cell_type": "code",
   "execution_count": 3786,
   "metadata": {},
   "outputs": [],
   "source": [
    "# Setting values for categorical data\n",
    "\n",
    "df['gov_funded']=0\n",
    "df.loc[df['gov_grant'] > 0, 'gov_funded'] = 1\n",
    "\n",
    "df['offers_services']=0\n",
    "df.loc[df['service_rev'] > 0, 'offers_services'] = 1"
   ]
  },
  {
   "cell_type": "code",
   "execution_count": 3787,
   "metadata": {
    "collapsed": true
   },
   "outputs": [],
   "source": [
    "df['perc_CEOsalary']=df['CEOsalary']/df['revenue']\n",
    "df['perc_service_rev']=df['service_rev']/df['revenue']"
   ]
  },
  {
   "cell_type": "code",
   "execution_count": 3788,
   "metadata": {},
   "outputs": [],
   "source": [
    "# Dropping data\n",
    "df2 = df.set_index('name')\n",
    "df2.drop(['yr_founded','state','prog_rev','url','CEOsalary','perc_CEOsalary','service_rev','gov_grant','perc_service_rev',\\\n",
    "          'admin_exp','mkting_exp','perc_admin_exp','liab_to_assets','program_exp_growth','revenue']\\\n",
    "         ,inplace=True, axis=1)"
   ]
  },
  {
   "cell_type": "code",
   "execution_count": 3789,
   "metadata": {
    "collapsed": true
   },
   "outputs": [],
   "source": [
    "#df2.to_pickle('../../../Scratchwork/charities.pkl')"
   ]
  },
  {
   "cell_type": "code",
   "execution_count": 3790,
   "metadata": {},
   "outputs": [
    {
     "name": "stdout",
     "output_type": "stream",
     "text": [
      "<class 'pandas.core.frame.DataFrame'>\n",
      "Index: 270 entries, Greenville Humane Society to Wildlife Rescue & Rehabilitation\n",
      "Data columns (total 7 columns):\n",
      "perc_fundraising_exp    270 non-null float64\n",
      "perc_program_exp        270 non-null float64\n",
      "tpscore                 270 non-null int64\n",
      "wking_cap_ratio         270 non-null float64\n",
      "age                     270 non-null float64\n",
      "gov_funded              270 non-null int64\n",
      "offers_services         270 non-null int64\n",
      "dtypes: float64(4), int64(3)\n",
      "memory usage: 16.9+ KB\n"
     ]
    }
   ],
   "source": [
    "#Checking out the high level information on the DF\n",
    "df2.info()"
   ]
  },
  {
   "cell_type": "markdown",
   "metadata": {},
   "source": [
    "# Initial exploration"
   ]
  },
  {
   "cell_type": "code",
   "execution_count": 3791,
   "metadata": {},
   "outputs": [
    {
     "data": {
      "text/html": [
       "<div>\n",
       "<style scoped>\n",
       "    .dataframe tbody tr th:only-of-type {\n",
       "        vertical-align: middle;\n",
       "    }\n",
       "\n",
       "    .dataframe tbody tr th {\n",
       "        vertical-align: top;\n",
       "    }\n",
       "\n",
       "    .dataframe thead th {\n",
       "        text-align: right;\n",
       "    }\n",
       "</style>\n",
       "<table border=\"1\" class=\"dataframe\">\n",
       "  <thead>\n",
       "    <tr style=\"text-align: right;\">\n",
       "      <th></th>\n",
       "      <th>perc_fundraising_exp</th>\n",
       "      <th>perc_program_exp</th>\n",
       "      <th>tpscore</th>\n",
       "      <th>wking_cap_ratio</th>\n",
       "      <th>age</th>\n",
       "      <th>gov_funded</th>\n",
       "      <th>offers_services</th>\n",
       "    </tr>\n",
       "  </thead>\n",
       "  <tbody>\n",
       "    <tr>\n",
       "      <th>count</th>\n",
       "      <td>270.000000</td>\n",
       "      <td>270.000000</td>\n",
       "      <td>270.000000</td>\n",
       "      <td>270.000000</td>\n",
       "      <td>270.000000</td>\n",
       "      <td>270.000000</td>\n",
       "      <td>270.000000</td>\n",
       "    </tr>\n",
       "    <tr>\n",
       "      <th>mean</th>\n",
       "      <td>0.102867</td>\n",
       "      <td>0.803722</td>\n",
       "      <td>93.114815</td>\n",
       "      <td>2.906556</td>\n",
       "      <td>50.711111</td>\n",
       "      <td>0.107407</td>\n",
       "      <td>0.866667</td>\n",
       "    </tr>\n",
       "    <tr>\n",
       "      <th>std</th>\n",
       "      <td>0.052217</td>\n",
       "      <td>0.065336</td>\n",
       "      <td>8.442995</td>\n",
       "      <td>2.480477</td>\n",
       "      <td>20.848138</td>\n",
       "      <td>0.310206</td>\n",
       "      <td>0.340566</td>\n",
       "    </tr>\n",
       "    <tr>\n",
       "      <th>min</th>\n",
       "      <td>0.009000</td>\n",
       "      <td>0.544000</td>\n",
       "      <td>48.000000</td>\n",
       "      <td>0.000000</td>\n",
       "      <td>10.000000</td>\n",
       "      <td>0.000000</td>\n",
       "      <td>0.000000</td>\n",
       "    </tr>\n",
       "    <tr>\n",
       "      <th>25%</th>\n",
       "      <td>0.068000</td>\n",
       "      <td>0.765250</td>\n",
       "      <td>89.000000</td>\n",
       "      <td>1.390000</td>\n",
       "      <td>35.000000</td>\n",
       "      <td>0.000000</td>\n",
       "      <td>1.000000</td>\n",
       "    </tr>\n",
       "    <tr>\n",
       "      <th>50%</th>\n",
       "      <td>0.096000</td>\n",
       "      <td>0.810000</td>\n",
       "      <td>96.000000</td>\n",
       "      <td>2.350000</td>\n",
       "      <td>50.000000</td>\n",
       "      <td>0.000000</td>\n",
       "      <td>1.000000</td>\n",
       "    </tr>\n",
       "    <tr>\n",
       "      <th>75%</th>\n",
       "      <td>0.133000</td>\n",
       "      <td>0.847000</td>\n",
       "      <td>100.000000</td>\n",
       "      <td>3.587500</td>\n",
       "      <td>68.000000</td>\n",
       "      <td>0.000000</td>\n",
       "      <td>1.000000</td>\n",
       "    </tr>\n",
       "    <tr>\n",
       "      <th>max</th>\n",
       "      <td>0.368000</td>\n",
       "      <td>0.946000</td>\n",
       "      <td>100.000000</td>\n",
       "      <td>19.270000</td>\n",
       "      <td>97.000000</td>\n",
       "      <td>1.000000</td>\n",
       "      <td>1.000000</td>\n",
       "    </tr>\n",
       "  </tbody>\n",
       "</table>\n",
       "</div>"
      ],
      "text/plain": [
       "       perc_fundraising_exp  perc_program_exp     tpscore  wking_cap_ratio  \\\n",
       "count            270.000000        270.000000  270.000000       270.000000   \n",
       "mean               0.102867          0.803722   93.114815         2.906556   \n",
       "std                0.052217          0.065336    8.442995         2.480477   \n",
       "min                0.009000          0.544000   48.000000         0.000000   \n",
       "25%                0.068000          0.765250   89.000000         1.390000   \n",
       "50%                0.096000          0.810000   96.000000         2.350000   \n",
       "75%                0.133000          0.847000  100.000000         3.587500   \n",
       "max                0.368000          0.946000  100.000000        19.270000   \n",
       "\n",
       "              age  gov_funded  offers_services  \n",
       "count  270.000000  270.000000       270.000000  \n",
       "mean    50.711111    0.107407         0.866667  \n",
       "std     20.848138    0.310206         0.340566  \n",
       "min     10.000000    0.000000         0.000000  \n",
       "25%     35.000000    0.000000         1.000000  \n",
       "50%     50.000000    0.000000         1.000000  \n",
       "75%     68.000000    0.000000         1.000000  \n",
       "max     97.000000    1.000000         1.000000  "
      ]
     },
     "execution_count": 3791,
     "metadata": {},
     "output_type": "execute_result"
    }
   ],
   "source": [
    "#Reviewing the summary statistics\n",
    "df2.describe()"
   ]
  },
  {
   "cell_type": "code",
   "execution_count": 3792,
   "metadata": {},
   "outputs": [
    {
     "data": {
      "text/html": [
       "<div>\n",
       "<style scoped>\n",
       "    .dataframe tbody tr th:only-of-type {\n",
       "        vertical-align: middle;\n",
       "    }\n",
       "\n",
       "    .dataframe tbody tr th {\n",
       "        vertical-align: top;\n",
       "    }\n",
       "\n",
       "    .dataframe thead th {\n",
       "        text-align: right;\n",
       "    }\n",
       "</style>\n",
       "<table border=\"1\" class=\"dataframe\">\n",
       "  <thead>\n",
       "    <tr style=\"text-align: right;\">\n",
       "      <th></th>\n",
       "      <th>CEOsalary</th>\n",
       "      <th>admin_exp</th>\n",
       "      <th>gov_grant</th>\n",
       "      <th>liab_to_assets</th>\n",
       "      <th>mkting_exp</th>\n",
       "      <th>perc_admin_exp</th>\n",
       "      <th>perc_fundraising_exp</th>\n",
       "      <th>perc_program_exp</th>\n",
       "      <th>prog_rev</th>\n",
       "      <th>program_exp_growth</th>\n",
       "      <th>revenue</th>\n",
       "      <th>service_rev</th>\n",
       "      <th>tpscore</th>\n",
       "      <th>wking_cap_ratio</th>\n",
       "      <th>age</th>\n",
       "      <th>gov_funded</th>\n",
       "      <th>offers_services</th>\n",
       "      <th>perc_CEOsalary</th>\n",
       "      <th>perc_service_rev</th>\n",
       "    </tr>\n",
       "  </thead>\n",
       "  <tbody>\n",
       "    <tr>\n",
       "      <th>CEOsalary</th>\n",
       "      <td>1.000000</td>\n",
       "      <td>0.698450</td>\n",
       "      <td>0.087064</td>\n",
       "      <td>0.011387</td>\n",
       "      <td>0.466161</td>\n",
       "      <td>-0.041897</td>\n",
       "      <td>0.077279</td>\n",
       "      <td>-0.032265</td>\n",
       "      <td>0.574758</td>\n",
       "      <td>-0.029143</td>\n",
       "      <td>0.483966</td>\n",
       "      <td>0.600258</td>\n",
       "      <td>0.208217</td>\n",
       "      <td>-0.000298</td>\n",
       "      <td>0.320453</td>\n",
       "      <td>-0.014974</td>\n",
       "      <td>0.059234</td>\n",
       "      <td>-0.136401</td>\n",
       "      <td>0.140817</td>\n",
       "    </tr>\n",
       "    <tr>\n",
       "      <th>admin_exp</th>\n",
       "      <td>0.698450</td>\n",
       "      <td>1.000000</td>\n",
       "      <td>0.012228</td>\n",
       "      <td>0.029421</td>\n",
       "      <td>0.688781</td>\n",
       "      <td>0.124411</td>\n",
       "      <td>0.069477</td>\n",
       "      <td>-0.140431</td>\n",
       "      <td>0.810848</td>\n",
       "      <td>0.006210</td>\n",
       "      <td>0.712027</td>\n",
       "      <td>0.723092</td>\n",
       "      <td>0.136159</td>\n",
       "      <td>-0.049889</td>\n",
       "      <td>0.256631</td>\n",
       "      <td>-0.045913</td>\n",
       "      <td>0.092432</td>\n",
       "      <td>-0.187905</td>\n",
       "      <td>0.176352</td>\n",
       "    </tr>\n",
       "    <tr>\n",
       "      <th>gov_grant</th>\n",
       "      <td>0.087064</td>\n",
       "      <td>0.012228</td>\n",
       "      <td>1.000000</td>\n",
       "      <td>-0.004822</td>\n",
       "      <td>-0.006446</td>\n",
       "      <td>-0.059431</td>\n",
       "      <td>-0.057265</td>\n",
       "      <td>0.086927</td>\n",
       "      <td>0.022192</td>\n",
       "      <td>0.026757</td>\n",
       "      <td>0.014735</td>\n",
       "      <td>0.039885</td>\n",
       "      <td>0.042204</td>\n",
       "      <td>-0.067078</td>\n",
       "      <td>0.086801</td>\n",
       "      <td>0.448752</td>\n",
       "      <td>0.026238</td>\n",
       "      <td>-0.092403</td>\n",
       "      <td>-0.018621</td>\n",
       "    </tr>\n",
       "    <tr>\n",
       "      <th>liab_to_assets</th>\n",
       "      <td>0.011387</td>\n",
       "      <td>0.029421</td>\n",
       "      <td>-0.004822</td>\n",
       "      <td>1.000000</td>\n",
       "      <td>0.085854</td>\n",
       "      <td>-0.093303</td>\n",
       "      <td>0.304208</td>\n",
       "      <td>-0.178411</td>\n",
       "      <td>0.053176</td>\n",
       "      <td>-0.030945</td>\n",
       "      <td>0.056568</td>\n",
       "      <td>0.005681</td>\n",
       "      <td>-0.247857</td>\n",
       "      <td>-0.161332</td>\n",
       "      <td>-0.148873</td>\n",
       "      <td>-0.000232</td>\n",
       "      <td>-0.192001</td>\n",
       "      <td>-0.077835</td>\n",
       "      <td>-0.011993</td>\n",
       "    </tr>\n",
       "    <tr>\n",
       "      <th>mkting_exp</th>\n",
       "      <td>0.466161</td>\n",
       "      <td>0.688781</td>\n",
       "      <td>-0.006446</td>\n",
       "      <td>0.085854</td>\n",
       "      <td>1.000000</td>\n",
       "      <td>-0.143646</td>\n",
       "      <td>0.266868</td>\n",
       "      <td>-0.113326</td>\n",
       "      <td>0.954687</td>\n",
       "      <td>-0.017456</td>\n",
       "      <td>0.977633</td>\n",
       "      <td>0.262424</td>\n",
       "      <td>0.064482</td>\n",
       "      <td>-0.085890</td>\n",
       "      <td>0.158829</td>\n",
       "      <td>-0.034884</td>\n",
       "      <td>0.044024</td>\n",
       "      <td>-0.199690</td>\n",
       "      <td>-0.062992</td>\n",
       "    </tr>\n",
       "    <tr>\n",
       "      <th>perc_admin_exp</th>\n",
       "      <td>-0.041897</td>\n",
       "      <td>0.124411</td>\n",
       "      <td>-0.059431</td>\n",
       "      <td>-0.093303</td>\n",
       "      <td>-0.143646</td>\n",
       "      <td>1.000000</td>\n",
       "      <td>-0.102518</td>\n",
       "      <td>-0.607399</td>\n",
       "      <td>-0.135542</td>\n",
       "      <td>-0.019163</td>\n",
       "      <td>-0.157467</td>\n",
       "      <td>0.041668</td>\n",
       "      <td>-0.077342</td>\n",
       "      <td>0.237430</td>\n",
       "      <td>0.063086</td>\n",
       "      <td>-0.058435</td>\n",
       "      <td>0.183763</td>\n",
       "      <td>0.184792</td>\n",
       "      <td>0.020069</td>\n",
       "    </tr>\n",
       "    <tr>\n",
       "      <th>perc_fundraising_exp</th>\n",
       "      <td>0.077279</td>\n",
       "      <td>0.069477</td>\n",
       "      <td>-0.057265</td>\n",
       "      <td>0.304208</td>\n",
       "      <td>0.266868</td>\n",
       "      <td>-0.102518</td>\n",
       "      <td>1.000000</td>\n",
       "      <td>-0.727905</td>\n",
       "      <td>0.184815</td>\n",
       "      <td>-0.039539</td>\n",
       "      <td>0.227360</td>\n",
       "      <td>-0.110296</td>\n",
       "      <td>-0.134956</td>\n",
       "      <td>-0.102483</td>\n",
       "      <td>-0.002778</td>\n",
       "      <td>-0.062455</td>\n",
       "      <td>-0.035705</td>\n",
       "      <td>-0.172133</td>\n",
       "      <td>-0.262962</td>\n",
       "    </tr>\n",
       "    <tr>\n",
       "      <th>perc_program_exp</th>\n",
       "      <td>-0.032265</td>\n",
       "      <td>-0.140431</td>\n",
       "      <td>0.086927</td>\n",
       "      <td>-0.178411</td>\n",
       "      <td>-0.113326</td>\n",
       "      <td>-0.607399</td>\n",
       "      <td>-0.727905</td>\n",
       "      <td>1.000000</td>\n",
       "      <td>-0.053269</td>\n",
       "      <td>0.045136</td>\n",
       "      <td>-0.072184</td>\n",
       "      <td>0.059916</td>\n",
       "      <td>0.160819</td>\n",
       "      <td>-0.081684</td>\n",
       "      <td>-0.041092</td>\n",
       "      <td>0.089886</td>\n",
       "      <td>-0.098738</td>\n",
       "      <td>0.010302</td>\n",
       "      <td>0.196261</td>\n",
       "    </tr>\n",
       "    <tr>\n",
       "      <th>prog_rev</th>\n",
       "      <td>0.574758</td>\n",
       "      <td>0.810848</td>\n",
       "      <td>0.022192</td>\n",
       "      <td>0.053176</td>\n",
       "      <td>0.954687</td>\n",
       "      <td>-0.135542</td>\n",
       "      <td>0.184815</td>\n",
       "      <td>-0.053269</td>\n",
       "      <td>1.000000</td>\n",
       "      <td>0.010174</td>\n",
       "      <td>0.977956</td>\n",
       "      <td>0.469698</td>\n",
       "      <td>0.106962</td>\n",
       "      <td>-0.096686</td>\n",
       "      <td>0.198411</td>\n",
       "      <td>-0.033588</td>\n",
       "      <td>0.064465</td>\n",
       "      <td>-0.252235</td>\n",
       "      <td>0.013558</td>\n",
       "    </tr>\n",
       "    <tr>\n",
       "      <th>program_exp_growth</th>\n",
       "      <td>-0.029143</td>\n",
       "      <td>0.006210</td>\n",
       "      <td>0.026757</td>\n",
       "      <td>-0.030945</td>\n",
       "      <td>-0.017456</td>\n",
       "      <td>-0.019163</td>\n",
       "      <td>-0.039539</td>\n",
       "      <td>0.045136</td>\n",
       "      <td>0.010174</td>\n",
       "      <td>1.000000</td>\n",
       "      <td>0.001843</td>\n",
       "      <td>0.039054</td>\n",
       "      <td>0.027099</td>\n",
       "      <td>-0.007895</td>\n",
       "      <td>-0.086930</td>\n",
       "      <td>0.009427</td>\n",
       "      <td>0.103366</td>\n",
       "      <td>-0.073578</td>\n",
       "      <td>0.066534</td>\n",
       "    </tr>\n",
       "    <tr>\n",
       "      <th>revenue</th>\n",
       "      <td>0.483966</td>\n",
       "      <td>0.712027</td>\n",
       "      <td>0.014735</td>\n",
       "      <td>0.056568</td>\n",
       "      <td>0.977633</td>\n",
       "      <td>-0.157467</td>\n",
       "      <td>0.227360</td>\n",
       "      <td>-0.072184</td>\n",
       "      <td>0.977956</td>\n",
       "      <td>0.001843</td>\n",
       "      <td>1.000000</td>\n",
       "      <td>0.275002</td>\n",
       "      <td>0.089195</td>\n",
       "      <td>-0.077354</td>\n",
       "      <td>0.147417</td>\n",
       "      <td>-0.032053</td>\n",
       "      <td>0.032936</td>\n",
       "      <td>-0.258320</td>\n",
       "      <td>-0.090457</td>\n",
       "    </tr>\n",
       "    <tr>\n",
       "      <th>service_rev</th>\n",
       "      <td>0.600258</td>\n",
       "      <td>0.723092</td>\n",
       "      <td>0.039885</td>\n",
       "      <td>0.005681</td>\n",
       "      <td>0.262424</td>\n",
       "      <td>0.041668</td>\n",
       "      <td>-0.110296</td>\n",
       "      <td>0.059916</td>\n",
       "      <td>0.469698</td>\n",
       "      <td>0.039054</td>\n",
       "      <td>0.275002</td>\n",
       "      <td>1.000000</td>\n",
       "      <td>0.115389</td>\n",
       "      <td>-0.118138</td>\n",
       "      <td>0.290298</td>\n",
       "      <td>-0.019134</td>\n",
       "      <td>0.157572</td>\n",
       "      <td>-0.069243</td>\n",
       "      <td>0.444870</td>\n",
       "    </tr>\n",
       "    <tr>\n",
       "      <th>tpscore</th>\n",
       "      <td>0.208217</td>\n",
       "      <td>0.136159</td>\n",
       "      <td>0.042204</td>\n",
       "      <td>-0.247857</td>\n",
       "      <td>0.064482</td>\n",
       "      <td>-0.077342</td>\n",
       "      <td>-0.134956</td>\n",
       "      <td>0.160819</td>\n",
       "      <td>0.106962</td>\n",
       "      <td>0.027099</td>\n",
       "      <td>0.089195</td>\n",
       "      <td>0.115389</td>\n",
       "      <td>1.000000</td>\n",
       "      <td>-0.056861</td>\n",
       "      <td>0.153137</td>\n",
       "      <td>-0.041630</td>\n",
       "      <td>0.084208</td>\n",
       "      <td>-0.218308</td>\n",
       "      <td>0.032049</td>\n",
       "    </tr>\n",
       "    <tr>\n",
       "      <th>wking_cap_ratio</th>\n",
       "      <td>-0.000298</td>\n",
       "      <td>-0.049889</td>\n",
       "      <td>-0.067078</td>\n",
       "      <td>-0.161332</td>\n",
       "      <td>-0.085890</td>\n",
       "      <td>0.237430</td>\n",
       "      <td>-0.102483</td>\n",
       "      <td>-0.081684</td>\n",
       "      <td>-0.096686</td>\n",
       "      <td>-0.007895</td>\n",
       "      <td>-0.077354</td>\n",
       "      <td>-0.118138</td>\n",
       "      <td>-0.056861</td>\n",
       "      <td>1.000000</td>\n",
       "      <td>0.185003</td>\n",
       "      <td>-0.034641</td>\n",
       "      <td>0.081041</td>\n",
       "      <td>0.132149</td>\n",
       "      <td>-0.139857</td>\n",
       "    </tr>\n",
       "    <tr>\n",
       "      <th>age</th>\n",
       "      <td>0.320453</td>\n",
       "      <td>0.256631</td>\n",
       "      <td>0.086801</td>\n",
       "      <td>-0.148873</td>\n",
       "      <td>0.158829</td>\n",
       "      <td>0.063086</td>\n",
       "      <td>-0.002778</td>\n",
       "      <td>-0.041092</td>\n",
       "      <td>0.198411</td>\n",
       "      <td>-0.086930</td>\n",
       "      <td>0.147417</td>\n",
       "      <td>0.290298</td>\n",
       "      <td>0.153137</td>\n",
       "      <td>0.185003</td>\n",
       "      <td>1.000000</td>\n",
       "      <td>-0.010704</td>\n",
       "      <td>0.263673</td>\n",
       "      <td>-0.066920</td>\n",
       "      <td>0.137433</td>\n",
       "    </tr>\n",
       "    <tr>\n",
       "      <th>gov_funded</th>\n",
       "      <td>-0.014974</td>\n",
       "      <td>-0.045913</td>\n",
       "      <td>0.448752</td>\n",
       "      <td>-0.000232</td>\n",
       "      <td>-0.034884</td>\n",
       "      <td>-0.058435</td>\n",
       "      <td>-0.062455</td>\n",
       "      <td>0.089886</td>\n",
       "      <td>-0.033588</td>\n",
       "      <td>0.009427</td>\n",
       "      <td>-0.032053</td>\n",
       "      <td>-0.019134</td>\n",
       "      <td>-0.041630</td>\n",
       "      <td>-0.034641</td>\n",
       "      <td>-0.010704</td>\n",
       "      <td>1.000000</td>\n",
       "      <td>0.030496</td>\n",
       "      <td>-0.095721</td>\n",
       "      <td>-0.032211</td>\n",
       "    </tr>\n",
       "    <tr>\n",
       "      <th>offers_services</th>\n",
       "      <td>0.059234</td>\n",
       "      <td>0.092432</td>\n",
       "      <td>0.026238</td>\n",
       "      <td>-0.192001</td>\n",
       "      <td>0.044024</td>\n",
       "      <td>0.183763</td>\n",
       "      <td>-0.035705</td>\n",
       "      <td>-0.098738</td>\n",
       "      <td>0.064465</td>\n",
       "      <td>0.103366</td>\n",
       "      <td>0.032936</td>\n",
       "      <td>0.157572</td>\n",
       "      <td>0.084208</td>\n",
       "      <td>0.081041</td>\n",
       "      <td>0.263673</td>\n",
       "      <td>0.030496</td>\n",
       "      <td>1.000000</td>\n",
       "      <td>0.094750</td>\n",
       "      <td>0.218227</td>\n",
       "    </tr>\n",
       "    <tr>\n",
       "      <th>perc_CEOsalary</th>\n",
       "      <td>-0.136401</td>\n",
       "      <td>-0.187905</td>\n",
       "      <td>-0.092403</td>\n",
       "      <td>-0.077835</td>\n",
       "      <td>-0.199690</td>\n",
       "      <td>0.184792</td>\n",
       "      <td>-0.172133</td>\n",
       "      <td>0.010302</td>\n",
       "      <td>-0.252235</td>\n",
       "      <td>-0.073578</td>\n",
       "      <td>-0.258320</td>\n",
       "      <td>-0.069243</td>\n",
       "      <td>-0.218308</td>\n",
       "      <td>0.132149</td>\n",
       "      <td>-0.066920</td>\n",
       "      <td>-0.095721</td>\n",
       "      <td>0.094750</td>\n",
       "      <td>1.000000</td>\n",
       "      <td>0.416599</td>\n",
       "    </tr>\n",
       "    <tr>\n",
       "      <th>perc_service_rev</th>\n",
       "      <td>0.140817</td>\n",
       "      <td>0.176352</td>\n",
       "      <td>-0.018621</td>\n",
       "      <td>-0.011993</td>\n",
       "      <td>-0.062992</td>\n",
       "      <td>0.020069</td>\n",
       "      <td>-0.262962</td>\n",
       "      <td>0.196261</td>\n",
       "      <td>0.013558</td>\n",
       "      <td>0.066534</td>\n",
       "      <td>-0.090457</td>\n",
       "      <td>0.444870</td>\n",
       "      <td>0.032049</td>\n",
       "      <td>-0.139857</td>\n",
       "      <td>0.137433</td>\n",
       "      <td>-0.032211</td>\n",
       "      <td>0.218227</td>\n",
       "      <td>0.416599</td>\n",
       "      <td>1.000000</td>\n",
       "    </tr>\n",
       "  </tbody>\n",
       "</table>\n",
       "</div>"
      ],
      "text/plain": [
       "                      CEOsalary  admin_exp  gov_grant  liab_to_assets  \\\n",
       "CEOsalary              1.000000   0.698450   0.087064        0.011387   \n",
       "admin_exp              0.698450   1.000000   0.012228        0.029421   \n",
       "gov_grant              0.087064   0.012228   1.000000       -0.004822   \n",
       "liab_to_assets         0.011387   0.029421  -0.004822        1.000000   \n",
       "mkting_exp             0.466161   0.688781  -0.006446        0.085854   \n",
       "perc_admin_exp        -0.041897   0.124411  -0.059431       -0.093303   \n",
       "perc_fundraising_exp   0.077279   0.069477  -0.057265        0.304208   \n",
       "perc_program_exp      -0.032265  -0.140431   0.086927       -0.178411   \n",
       "prog_rev               0.574758   0.810848   0.022192        0.053176   \n",
       "program_exp_growth    -0.029143   0.006210   0.026757       -0.030945   \n",
       "revenue                0.483966   0.712027   0.014735        0.056568   \n",
       "service_rev            0.600258   0.723092   0.039885        0.005681   \n",
       "tpscore                0.208217   0.136159   0.042204       -0.247857   \n",
       "wking_cap_ratio       -0.000298  -0.049889  -0.067078       -0.161332   \n",
       "age                    0.320453   0.256631   0.086801       -0.148873   \n",
       "gov_funded            -0.014974  -0.045913   0.448752       -0.000232   \n",
       "offers_services        0.059234   0.092432   0.026238       -0.192001   \n",
       "perc_CEOsalary        -0.136401  -0.187905  -0.092403       -0.077835   \n",
       "perc_service_rev       0.140817   0.176352  -0.018621       -0.011993   \n",
       "\n",
       "                      mkting_exp  perc_admin_exp  perc_fundraising_exp  \\\n",
       "CEOsalary               0.466161       -0.041897              0.077279   \n",
       "admin_exp               0.688781        0.124411              0.069477   \n",
       "gov_grant              -0.006446       -0.059431             -0.057265   \n",
       "liab_to_assets          0.085854       -0.093303              0.304208   \n",
       "mkting_exp              1.000000       -0.143646              0.266868   \n",
       "perc_admin_exp         -0.143646        1.000000             -0.102518   \n",
       "perc_fundraising_exp    0.266868       -0.102518              1.000000   \n",
       "perc_program_exp       -0.113326       -0.607399             -0.727905   \n",
       "prog_rev                0.954687       -0.135542              0.184815   \n",
       "program_exp_growth     -0.017456       -0.019163             -0.039539   \n",
       "revenue                 0.977633       -0.157467              0.227360   \n",
       "service_rev             0.262424        0.041668             -0.110296   \n",
       "tpscore                 0.064482       -0.077342             -0.134956   \n",
       "wking_cap_ratio        -0.085890        0.237430             -0.102483   \n",
       "age                     0.158829        0.063086             -0.002778   \n",
       "gov_funded             -0.034884       -0.058435             -0.062455   \n",
       "offers_services         0.044024        0.183763             -0.035705   \n",
       "perc_CEOsalary         -0.199690        0.184792             -0.172133   \n",
       "perc_service_rev       -0.062992        0.020069             -0.262962   \n",
       "\n",
       "                      perc_program_exp  prog_rev  program_exp_growth  \\\n",
       "CEOsalary                    -0.032265  0.574758           -0.029143   \n",
       "admin_exp                    -0.140431  0.810848            0.006210   \n",
       "gov_grant                     0.086927  0.022192            0.026757   \n",
       "liab_to_assets               -0.178411  0.053176           -0.030945   \n",
       "mkting_exp                   -0.113326  0.954687           -0.017456   \n",
       "perc_admin_exp               -0.607399 -0.135542           -0.019163   \n",
       "perc_fundraising_exp         -0.727905  0.184815           -0.039539   \n",
       "perc_program_exp              1.000000 -0.053269            0.045136   \n",
       "prog_rev                     -0.053269  1.000000            0.010174   \n",
       "program_exp_growth            0.045136  0.010174            1.000000   \n",
       "revenue                      -0.072184  0.977956            0.001843   \n",
       "service_rev                   0.059916  0.469698            0.039054   \n",
       "tpscore                       0.160819  0.106962            0.027099   \n",
       "wking_cap_ratio              -0.081684 -0.096686           -0.007895   \n",
       "age                          -0.041092  0.198411           -0.086930   \n",
       "gov_funded                    0.089886 -0.033588            0.009427   \n",
       "offers_services              -0.098738  0.064465            0.103366   \n",
       "perc_CEOsalary                0.010302 -0.252235           -0.073578   \n",
       "perc_service_rev              0.196261  0.013558            0.066534   \n",
       "\n",
       "                       revenue  service_rev   tpscore  wking_cap_ratio  \\\n",
       "CEOsalary             0.483966     0.600258  0.208217        -0.000298   \n",
       "admin_exp             0.712027     0.723092  0.136159        -0.049889   \n",
       "gov_grant             0.014735     0.039885  0.042204        -0.067078   \n",
       "liab_to_assets        0.056568     0.005681 -0.247857        -0.161332   \n",
       "mkting_exp            0.977633     0.262424  0.064482        -0.085890   \n",
       "perc_admin_exp       -0.157467     0.041668 -0.077342         0.237430   \n",
       "perc_fundraising_exp  0.227360    -0.110296 -0.134956        -0.102483   \n",
       "perc_program_exp     -0.072184     0.059916  0.160819        -0.081684   \n",
       "prog_rev              0.977956     0.469698  0.106962        -0.096686   \n",
       "program_exp_growth    0.001843     0.039054  0.027099        -0.007895   \n",
       "revenue               1.000000     0.275002  0.089195        -0.077354   \n",
       "service_rev           0.275002     1.000000  0.115389        -0.118138   \n",
       "tpscore               0.089195     0.115389  1.000000        -0.056861   \n",
       "wking_cap_ratio      -0.077354    -0.118138 -0.056861         1.000000   \n",
       "age                   0.147417     0.290298  0.153137         0.185003   \n",
       "gov_funded           -0.032053    -0.019134 -0.041630        -0.034641   \n",
       "offers_services       0.032936     0.157572  0.084208         0.081041   \n",
       "perc_CEOsalary       -0.258320    -0.069243 -0.218308         0.132149   \n",
       "perc_service_rev     -0.090457     0.444870  0.032049        -0.139857   \n",
       "\n",
       "                           age  gov_funded  offers_services  perc_CEOsalary  \\\n",
       "CEOsalary             0.320453   -0.014974         0.059234       -0.136401   \n",
       "admin_exp             0.256631   -0.045913         0.092432       -0.187905   \n",
       "gov_grant             0.086801    0.448752         0.026238       -0.092403   \n",
       "liab_to_assets       -0.148873   -0.000232        -0.192001       -0.077835   \n",
       "mkting_exp            0.158829   -0.034884         0.044024       -0.199690   \n",
       "perc_admin_exp        0.063086   -0.058435         0.183763        0.184792   \n",
       "perc_fundraising_exp -0.002778   -0.062455        -0.035705       -0.172133   \n",
       "perc_program_exp     -0.041092    0.089886        -0.098738        0.010302   \n",
       "prog_rev              0.198411   -0.033588         0.064465       -0.252235   \n",
       "program_exp_growth   -0.086930    0.009427         0.103366       -0.073578   \n",
       "revenue               0.147417   -0.032053         0.032936       -0.258320   \n",
       "service_rev           0.290298   -0.019134         0.157572       -0.069243   \n",
       "tpscore               0.153137   -0.041630         0.084208       -0.218308   \n",
       "wking_cap_ratio       0.185003   -0.034641         0.081041        0.132149   \n",
       "age                   1.000000   -0.010704         0.263673       -0.066920   \n",
       "gov_funded           -0.010704    1.000000         0.030496       -0.095721   \n",
       "offers_services       0.263673    0.030496         1.000000        0.094750   \n",
       "perc_CEOsalary       -0.066920   -0.095721         0.094750        1.000000   \n",
       "perc_service_rev      0.137433   -0.032211         0.218227        0.416599   \n",
       "\n",
       "                      perc_service_rev  \n",
       "CEOsalary                     0.140817  \n",
       "admin_exp                     0.176352  \n",
       "gov_grant                    -0.018621  \n",
       "liab_to_assets               -0.011993  \n",
       "mkting_exp                   -0.062992  \n",
       "perc_admin_exp                0.020069  \n",
       "perc_fundraising_exp         -0.262962  \n",
       "perc_program_exp              0.196261  \n",
       "prog_rev                      0.013558  \n",
       "program_exp_growth            0.066534  \n",
       "revenue                      -0.090457  \n",
       "service_rev                   0.444870  \n",
       "tpscore                       0.032049  \n",
       "wking_cap_ratio              -0.139857  \n",
       "age                           0.137433  \n",
       "gov_funded                   -0.032211  \n",
       "offers_services               0.218227  \n",
       "perc_CEOsalary                0.416599  \n",
       "perc_service_rev              1.000000  "
      ]
     },
     "execution_count": 3792,
     "metadata": {},
     "output_type": "execute_result"
    }
   ],
   "source": [
    "# Investigating the top correlations\n",
    "#df2.corr()['perc_program_exp'].abs().sort_values(ascending=False)\n",
    "\n",
    "df.corr()"
   ]
  },
  {
   "cell_type": "code",
   "execution_count": 3793,
   "metadata": {},
   "outputs": [
    {
     "data": {
      "image/png": "[encoded data removed]",
      "text/plain": [
       "<matplotlib.figure.Figure at 0x1c94108550>"
      ]
     },
     "metadata": {},
     "output_type": "display_data"
    }
   ],
   "source": [
    "# Viewing the distribution of my Y variable\n",
    "\n",
    "df2.perc_program_exp.plot(kind='hist',title= \"Distribution of Percent Program Expense\", bins=20);"
   ]
  },
  {
   "cell_type": "code",
   "execution_count": 3794,
   "metadata": {},
   "outputs": [
    {
     "data": {
      "text/plain": [
       "0.8037222222222216"
      ]
     },
     "execution_count": 3794,
     "metadata": {},
     "output_type": "execute_result"
    }
   ],
   "source": [
    "df2.perc_program_exp.mean()"
   ]
  },
  {
   "cell_type": "code",
   "execution_count": 3795,
   "metadata": {},
   "outputs": [
    {
     "data": {
      "text/plain": [
       "<seaborn.axisgrid.PairGrid at 0x1c94139748>"
      ]
     },
     "execution_count": 3795,
     "metadata": {},
     "output_type": "execute_result"
    },
    {
     "data": {
      "image/png": "[encoded data removed]",
      "text/plain": [
       "<matplotlib.figure.Figure at 0x1c94139668>"
      ]
     },
     "metadata": {},
     "output_type": "display_data"
    }
   ],
   "source": [
    "sns.pairplot(df2[['perc_program_exp','perc_fundraising_exp', 'tpscore', 'wking_cap_ratio', 'offers_services']])"
   ]
  },
  {
   "cell_type": "code",
   "execution_count": 3771,
   "metadata": {},
   "outputs": [
    {
     "data": {
      "text/plain": [
       "<matplotlib.text.Text at 0x1c938248d0>"
      ]
     },
     "execution_count": 3771,
     "metadata": {},
     "output_type": "execute_result"
    },
    {
     "data": {
      "image/png": "[encoded data removed]",
      "text/plain": [
       "<matplotlib.figure.Figure at 0x1c938a1550>"
      ]
     },
     "metadata": {},
     "output_type": "display_data"
    }
   ],
   "source": [
    "df2.perc_fundraising_exp.hist(bins=20).set_title('Distribution of % Fundraising Expense')"
   ]
  },
  {
   "cell_type": "markdown",
   "metadata": {},
   "source": [
    "# Designing the regression model  \n",
    "  \n",
    "## Feature Selection"
   ]
  },
  {
   "cell_type": "code",
   "execution_count": 3675,
   "metadata": {
    "collapsed": true
   },
   "outputs": [],
   "source": [
    "from sklearn.model_selection import cross_val_score\n",
    "from sklearn import feature_selection as f_select\n",
    "from sklearn.model_selection import KFold\n",
    "from sklearn import preprocessing\n",
    "from sklearn.metrics import mean_squared_error\n",
    "from sklearn.preprocessing import StandardScaler"
   ]
  },
  {
   "cell_type": "code",
   "execution_count": 3821,
   "metadata": {},
   "outputs": [],
   "source": [
    "# Setting up X and Y\n",
    "y = df2['perc_program_exp']\n",
    "X=df2.drop('perc_program_exp',axis=1)"
   ]
  },
  {
   "cell_type": "code",
   "execution_count": 3677,
   "metadata": {},
   "outputs": [],
   "source": [
    "#Scrapping this feature selection method as the p values tend to be high individually. \n",
    "\n",
    "# kf=KFold(n_splits=3,shuffle=True)\n",
    "# kf.get_n_splits(X)\n",
    "# est=LinearRegression()\n",
    "# all_scores=[]\n",
    "\n",
    "# for train,test in kf.split(X):\n",
    "#     x_train=X_trans.iloc[train]\n",
    "#     y_train=y.iloc[train]\n",
    "#     x_test=X_trans.iloc[test]\n",
    "#     y_test=y.iloc[test]\n",
    "#     pvals=[]\n",
    "#     sig_cols=[]\n",
    "    \n",
    "#     for feature in x_train.columns:\n",
    "#         pval=f_select.f_regression(x_train[[feature]],y_train)\n",
    "#         if pval[1][0]<.05: \n",
    "#             sig_cols.append(feature)\n",
    "#             pvals.append(pval[1][0])\n",
    "            \n",
    "#     est.fit(x_train[sig_cols],y_train)\n",
    "#     r_2=est.score(x_test[sig_cols],y_test)\n",
    "#     all_scores.append(r_2)\n",
    "        \n",
    "# np.mean(all_scores)"
   ]
  },
  {
   "cell_type": "code",
   "execution_count": 3678,
   "metadata": {},
   "outputs": [
    {
     "data": {
      "text/plain": [
       "'perc_program_exp ~ perc_fundraising_exp + tpscore + wking_cap_ratio + age + gov_funded + offers_services'"
      ]
     },
     "execution_count": 3678,
     "metadata": {},
     "output_type": "execute_result"
    }
   ],
   "source": [
    "# Creating string of features as input for patsy\n",
    "all_features=y.name + \" ~ \" + \" + \".join(X.columns)\n",
    "all_features"
   ]
  },
  {
   "cell_type": "code",
   "execution_count": 3751,
   "metadata": {},
   "outputs": [
    {
     "data": {
      "text/html": [
       "<table class=\"simpletable\">\n",
       "<caption>OLS Regression Results</caption>\n",
       "<tr>\n",
       "  <th>Dep. Variable:</th>    <td>perc_program_exp</td> <th>  R-squared:         </th> <td>   0.594</td>\n",
       "</tr>\n",
       "<tr>\n",
       "  <th>Model:</th>                   <td>OLS</td>       <th>  Adj. R-squared:    </th> <td>   0.580</td>\n",
       "</tr>\n",
       "<tr>\n",
       "  <th>Method:</th>             <td>Least Squares</td>  <th>  F-statistic:       </th> <td>   42.12</td>\n",
       "</tr>\n",
       "<tr>\n",
       "  <th>Date:</th>             <td>Thu, 25 Jan 2018</td> <th>  Prob (F-statistic):</th> <td>2.05e-31</td>\n",
       "</tr>\n",
       "<tr>\n",
       "  <th>Time:</th>                 <td>19:01:37</td>     <th>  Log-Likelihood:    </th> <td>  312.85</td>\n",
       "</tr>\n",
       "<tr>\n",
       "  <th>No. Observations:</th>      <td>   180</td>      <th>  AIC:               </th> <td>  -611.7</td>\n",
       "</tr>\n",
       "<tr>\n",
       "  <th>Df Residuals:</th>          <td>   173</td>      <th>  BIC:               </th> <td>  -589.4</td>\n",
       "</tr>\n",
       "<tr>\n",
       "  <th>Df Model:</th>              <td>     6</td>      <th>                     </th>     <td> </td>   \n",
       "</tr>\n",
       "<tr>\n",
       "  <th>Covariance Type:</th>      <td>nonrobust</td>    <th>                     </th>     <td> </td>   \n",
       "</tr>\n",
       "</table>\n",
       "<table class=\"simpletable\">\n",
       "<tr>\n",
       "            <td></td>              <th>coef</th>     <th>std err</th>      <th>t</th>      <th>P>|t|</th>  <th>[0.025</th>    <th>0.975]</th>  \n",
       "</tr>\n",
       "<tr>\n",
       "  <th>Intercept</th>            <td>    0.8654</td> <td>    0.038</td> <td>   22.526</td> <td> 0.000</td> <td>    0.790</td> <td>    0.941</td>\n",
       "</tr>\n",
       "<tr>\n",
       "  <th>perc_fundraising_exp</th> <td>   -0.9369</td> <td>    0.063</td> <td>  -14.950</td> <td> 0.000</td> <td>   -1.061</td> <td>   -0.813</td>\n",
       "</tr>\n",
       "<tr>\n",
       "  <th>tpscore</th>              <td>    0.0007</td> <td>    0.000</td> <td>    1.824</td> <td> 0.070</td> <td>-5.85e-05</td> <td>    0.001</td>\n",
       "</tr>\n",
       "<tr>\n",
       "  <th>wking_cap_ratio</th>      <td>   -0.0042</td> <td>    0.001</td> <td>   -3.175</td> <td> 0.002</td> <td>   -0.007</td> <td>   -0.002</td>\n",
       "</tr>\n",
       "<tr>\n",
       "  <th>age</th>                  <td> 1.249e-05</td> <td>    0.000</td> <td>    0.075</td> <td> 0.940</td> <td>   -0.000</td> <td>    0.000</td>\n",
       "</tr>\n",
       "<tr>\n",
       "  <th>gov_funded</th>           <td>    0.0155</td> <td>    0.011</td> <td>    1.424</td> <td> 0.156</td> <td>   -0.006</td> <td>    0.037</td>\n",
       "</tr>\n",
       "<tr>\n",
       "  <th>offers_services</th>      <td>   -0.0241</td> <td>    0.010</td> <td>   -2.421</td> <td> 0.017</td> <td>   -0.044</td> <td>   -0.004</td>\n",
       "</tr>\n",
       "</table>\n",
       "<table class=\"simpletable\">\n",
       "<tr>\n",
       "  <th>Omnibus:</th>       <td>38.107</td> <th>  Durbin-Watson:     </th> <td>   2.147</td>\n",
       "</tr>\n",
       "<tr>\n",
       "  <th>Prob(Omnibus):</th> <td> 0.000</td> <th>  Jarque-Bera (JB):  </th> <td>  60.588</td>\n",
       "</tr>\n",
       "<tr>\n",
       "  <th>Skew:</th>          <td>-1.117</td> <th>  Prob(JB):          </th> <td>6.97e-14</td>\n",
       "</tr>\n",
       "<tr>\n",
       "  <th>Kurtosis:</th>      <td> 4.758</td> <th>  Cond. No.          </th> <td>2.13e+03</td>\n",
       "</tr>\n",
       "</table>"
      ],
      "text/plain": [
       "<class 'statsmodels.iolib.summary.Summary'>\n",
       "\"\"\"\n",
       "                            OLS Regression Results                            \n",
       "==============================================================================\n",
       "Dep. Variable:       perc_program_exp   R-squared:                       0.594\n",
       "Model:                            OLS   Adj. R-squared:                  0.580\n",
       "Method:                 Least Squares   F-statistic:                     42.12\n",
       "Date:                Thu, 25 Jan 2018   Prob (F-statistic):           2.05e-31\n",
       "Time:                        19:01:37   Log-Likelihood:                 312.85\n",
       "No. Observations:                 180   AIC:                            -611.7\n",
       "Df Residuals:                     173   BIC:                            -589.4\n",
       "Df Model:                           6                                         \n",
       "Covariance Type:            nonrobust                                         \n",
       "========================================================================================\n",
       "                           coef    std err          t      P>|t|      [0.025      0.975]\n",
       "----------------------------------------------------------------------------------------\n",
       "Intercept                0.8654      0.038     22.526      0.000       0.790       0.941\n",
       "perc_fundraising_exp    -0.9369      0.063    -14.950      0.000      -1.061      -0.813\n",
       "tpscore                  0.0007      0.000      1.824      0.070   -5.85e-05       0.001\n",
       "wking_cap_ratio         -0.0042      0.001     -3.175      0.002      -0.007      -0.002\n",
       "age                   1.249e-05      0.000      0.075      0.940      -0.000       0.000\n",
       "gov_funded               0.0155      0.011      1.424      0.156      -0.006       0.037\n",
       "offers_services         -0.0241      0.010     -2.421      0.017      -0.044      -0.004\n",
       "==============================================================================\n",
       "Omnibus:                       38.107   Durbin-Watson:                   2.147\n",
       "Prob(Omnibus):                  0.000   Jarque-Bera (JB):               60.588\n",
       "Skew:                          -1.117   Prob(JB):                     6.97e-14\n",
       "Kurtosis:                       4.758   Cond. No.                     2.13e+03\n",
       "==============================================================================\n",
       "\n",
       "Warnings:\n",
       "[1] Standard Errors assume that the covariance matrix of the errors is correctly specified.\n",
       "[2] The condition number is large, 2.13e+03. This might indicate that there are\n",
       "strong multicollinearity or other numerical problems.\n",
       "\"\"\""
      ]
     },
     "execution_count": 3751,
     "metadata": {},
     "output_type": "execute_result"
    }
   ],
   "source": [
    "# Fitting the model against all features to get a view of p values\n",
    "\n",
    "y, X = patsy.dmatrices(all_features, data=df2, return_type=\"dataframe\")\n",
    "\n",
    "# Train test split\n",
    "X_train, X_test, y_train, y_test = train_test_split(X, y, test_size=0.33,random_state=42)\n",
    "\n",
    "model = sm.OLS(y_train, X_train)\n",
    "fit = model.fit()\n",
    "\n",
    "fit.summary()"
   ]
  },
  {
   "cell_type": "code",
   "execution_count": 3820,
   "metadata": {},
   "outputs": [
    {
     "data": {
      "text/html": [
       "<table class=\"simpletable\">\n",
       "<caption>OLS Regression Results</caption>\n",
       "<tr>\n",
       "  <th>Dep. Variable:</th>    <td>perc_program_exp</td> <th>  R-squared:         </th> <td>   0.570</td>\n",
       "</tr>\n",
       "<tr>\n",
       "  <th>Model:</th>                   <td>OLS</td>       <th>  Adj. R-squared:    </th> <td>   0.560</td>\n",
       "</tr>\n",
       "<tr>\n",
       "  <th>Method:</th>             <td>Least Squares</td>  <th>  F-statistic:       </th> <td>   57.88</td>\n",
       "</tr>\n",
       "<tr>\n",
       "  <th>Date:</th>             <td>Fri, 26 Jan 2018</td> <th>  Prob (F-statistic):</th> <td>4.74e-31</td>\n",
       "</tr>\n",
       "<tr>\n",
       "  <th>Time:</th>                 <td>10:16:36</td>     <th>  Log-Likelihood:    </th> <td>  307.66</td>\n",
       "</tr>\n",
       "<tr>\n",
       "  <th>No. Observations:</th>      <td>   180</td>      <th>  AIC:               </th> <td>  -605.3</td>\n",
       "</tr>\n",
       "<tr>\n",
       "  <th>Df Residuals:</th>          <td>   175</td>      <th>  BIC:               </th> <td>  -589.4</td>\n",
       "</tr>\n",
       "<tr>\n",
       "  <th>Df Model:</th>              <td>     4</td>      <th>                     </th>     <td> </td>   \n",
       "</tr>\n",
       "<tr>\n",
       "  <th>Covariance Type:</th>      <td>nonrobust</td>    <th>                     </th>     <td> </td>   \n",
       "</tr>\n",
       "</table>\n",
       "<table class=\"simpletable\">\n",
       "<tr>\n",
       "            <td></td>              <th>coef</th>     <th>std err</th>      <th>t</th>      <th>P>|t|</th>  <th>[0.025</th>    <th>0.975]</th>  \n",
       "</tr>\n",
       "<tr>\n",
       "  <th>Intercept</th>            <td>    0.8377</td> <td>    0.038</td> <td>   21.875</td> <td> 0.000</td> <td>    0.762</td> <td>    0.913</td>\n",
       "</tr>\n",
       "<tr>\n",
       "  <th>perc_fundraising_exp</th> <td>   -0.9179</td> <td>    0.064</td> <td>  -14.443</td> <td> 0.000</td> <td>   -1.043</td> <td>   -0.792</td>\n",
       "</tr>\n",
       "<tr>\n",
       "  <th>tpscore</th>              <td>    0.0009</td> <td>    0.000</td> <td>    2.231</td> <td> 0.027</td> <td>    0.000</td> <td>    0.002</td>\n",
       "</tr>\n",
       "<tr>\n",
       "  <th>offers_services</th>      <td>   -0.0256</td> <td>    0.010</td> <td>   -2.547</td> <td> 0.012</td> <td>   -0.046</td> <td>   -0.006</td>\n",
       "</tr>\n",
       "<tr>\n",
       "  <th>gov_funded</th>           <td>    0.0188</td> <td>    0.011</td> <td>    1.703</td> <td> 0.090</td> <td>   -0.003</td> <td>    0.041</td>\n",
       "</tr>\n",
       "</table>\n",
       "<table class=\"simpletable\">\n",
       "<tr>\n",
       "  <th>Omnibus:</th>       <td>56.365</td> <th>  Durbin-Watson:     </th> <td>   2.185</td>\n",
       "</tr>\n",
       "<tr>\n",
       "  <th>Prob(Omnibus):</th> <td> 0.000</td> <th>  Jarque-Bera (JB):  </th> <td> 135.817</td>\n",
       "</tr>\n",
       "<tr>\n",
       "  <th>Skew:</th>          <td>-1.366</td> <th>  Prob(JB):          </th> <td>3.22e-30</td>\n",
       "</tr>\n",
       "<tr>\n",
       "  <th>Kurtosis:</th>      <td> 6.262</td> <th>  Cond. No.          </th> <td>1.84e+03</td>\n",
       "</tr>\n",
       "</table>"
      ],
      "text/plain": [
       "<class 'statsmodels.iolib.summary.Summary'>\n",
       "\"\"\"\n",
       "                            OLS Regression Results                            \n",
       "==============================================================================\n",
       "Dep. Variable:       perc_program_exp   R-squared:                       0.570\n",
       "Model:                            OLS   Adj. R-squared:                  0.560\n",
       "Method:                 Least Squares   F-statistic:                     57.88\n",
       "Date:                Fri, 26 Jan 2018   Prob (F-statistic):           4.74e-31\n",
       "Time:                        10:16:36   Log-Likelihood:                 307.66\n",
       "No. Observations:                 180   AIC:                            -605.3\n",
       "Df Residuals:                     175   BIC:                            -589.4\n",
       "Df Model:                           4                                         \n",
       "Covariance Type:            nonrobust                                         \n",
       "========================================================================================\n",
       "                           coef    std err          t      P>|t|      [0.025      0.975]\n",
       "----------------------------------------------------------------------------------------\n",
       "Intercept                0.8377      0.038     21.875      0.000       0.762       0.913\n",
       "perc_fundraising_exp    -0.9179      0.064    -14.443      0.000      -1.043      -0.792\n",
       "tpscore                  0.0009      0.000      2.231      0.027       0.000       0.002\n",
       "offers_services         -0.0256      0.010     -2.547      0.012      -0.046      -0.006\n",
       "gov_funded               0.0188      0.011      1.703      0.090      -0.003       0.041\n",
       "==============================================================================\n",
       "Omnibus:                       56.365   Durbin-Watson:                   2.185\n",
       "Prob(Omnibus):                  0.000   Jarque-Bera (JB):              135.817\n",
       "Skew:                          -1.366   Prob(JB):                     3.22e-30\n",
       "Kurtosis:                       6.262   Cond. No.                     1.84e+03\n",
       "==============================================================================\n",
       "\n",
       "Warnings:\n",
       "[1] Standard Errors assume that the covariance matrix of the errors is correctly specified.\n",
       "[2] The condition number is large, 1.84e+03. This might indicate that there are\n",
       "strong multicollinearity or other numerical problems.\n",
       "\"\"\""
      ]
     },
     "execution_count": 3820,
     "metadata": {},
     "output_type": "execute_result"
    }
   ],
   "source": [
    "# Tested combinations of features and narrowed it down to this set based on p values\n",
    "\n",
    "y, X = patsy.dmatrices('perc_program_exp ~ perc_fundraising_exp + tpscore + offers_services + gov_funded'\\\n",
    "                       , data=df2, return_type=\"dataframe\")\n",
    "\n",
    "X_train, X_test, y_train, y_test = train_test_split(X, y, test_size=0.33,random_state=42)\n",
    "\n",
    "model = sm.OLS(y_train, X_train)\n",
    "fit = model.fit()\n",
    "fit.summary()"
   ]
  },
  {
   "cell_type": "code",
   "execution_count": null,
   "metadata": {
    "collapsed": true
   },
   "outputs": [],
   "source": []
  },
  {
   "cell_type": "code",
   "execution_count": 3739,
   "metadata": {},
   "outputs": [],
   "source": [
    "y_pred = fit.predict(X_test)"
   ]
  },
  {
   "cell_type": "code",
   "execution_count": 3760,
   "metadata": {},
   "outputs": [
    {
     "data": {
      "text/plain": [
       "0.0018284707161763405"
      ]
     },
     "execution_count": 3760,
     "metadata": {},
     "output_type": "execute_result"
    }
   ],
   "source": [
    "mean_squared_error(y_test,y_pred)"
   ]
  },
  {
   "cell_type": "code",
   "execution_count": 3773,
   "metadata": {},
   "outputs": [
    {
     "data": {
      "text/plain": [
       "<matplotlib.text.Text at 0x1c93afab38>"
      ]
     },
     "execution_count": 3773,
     "metadata": {},
     "output_type": "execute_result"
    },
    {
     "data": {
      "image/png": "[encoded data removed]",
      "text/plain": [
       "<matplotlib.figure.Figure at 0x1c93ae95f8>"
      ]
     },
     "metadata": {},
     "output_type": "display_data"
    }
   ],
   "source": [
    "plt.scatter(X_test.perc_fundraising_exp,y_pred);\n",
    "plt.title('% Fundraising Expense vs. Predicted Value')\n",
    "plt.xlabel('% Fundraising Expense')\n",
    "plt.ylabel('Pred_Y')"
   ]
  },
  {
   "cell_type": "code",
   "execution_count": 3813,
   "metadata": {},
   "outputs": [
    {
     "data": {
      "text/plain": [
       "<matplotlib.text.Text at 0x1c95ef8da0>"
      ]
     },
     "execution_count": 3813,
     "metadata": {},
     "output_type": "execute_result"
    },
    {
     "data": {
      "image/png": "[encoded data removed]",
      "text/plain": [
       "<matplotlib.figure.Figure at 0x1c95c1a0b8>"
      ]
     },
     "metadata": {},
     "output_type": "display_data"
    }
   ],
   "source": [
    "plt.scatter(X_test.offers_services,y_pred);\n",
    "plt.title('Offers Services vs. Predicted Value')\n",
    "plt.xlabel('Offers Services')\n",
    "plt.ylabel('Pred_Y')"
   ]
  },
  {
   "cell_type": "code",
   "execution_count": null,
   "metadata": {
    "collapsed": true
   },
   "outputs": [],
   "source": [
    "plt.scatter(X_test.offers_services,y_pred);\n",
    "plt.title('Offers Services vs. Predicted Value')\n",
    "plt.xlabel('Offers Services')\n",
    "plt.ylabel('Pred_Y')"
   ]
  },
  {
   "cell_type": "code",
   "execution_count": null,
   "metadata": {
    "collapsed": true
   },
   "outputs": [],
   "source": [
    "plt.scatter(X_test.perc_fundraising_exp,y_pred);\n",
    "plt.title('% Fundraising Expense vs. Predicted Value')\n",
    "plt.xlabel('% Fundraising Expense')\n",
    "plt.ylabel('Pred_Y')"
   ]
  },
  {
   "cell_type": "code",
   "execution_count": null,
   "metadata": {
    "collapsed": true
   },
   "outputs": [],
   "source": []
  },
  {
   "cell_type": "code",
   "execution_count": 3774,
   "metadata": {},
   "outputs": [
    {
     "data": {
      "text/plain": [
       "<matplotlib.text.Text at 0x1c93cb5898>"
      ]
     },
     "execution_count": 3774,
     "metadata": {},
     "output_type": "execute_result"
    },
    {
     "data": {
      "image/png": "[encoded data removed]",
      "text/plain": [
       "<matplotlib.figure.Figure at 0x1c93b2a898>"
      ]
     },
     "metadata": {},
     "output_type": "display_data"
    }
   ],
   "source": [
    "plt.scatter(y_test,y_pred);\n",
    "plt.title('Actual Value vs. Predicted Value')\n",
    "plt.xlabel('Y')\n",
    "plt.ylabel('Pred_Y')"
   ]
  },
  {
   "cell_type": "markdown",
   "metadata": {},
   "source": [
    "# Lasso with K-Folds"
   ]
  },
  {
   "cell_type": "code",
   "execution_count": 3699,
   "metadata": {
    "collapsed": true
   },
   "outputs": [],
   "source": [
    "# y, X = patsy.dmatrices('perc_program_exp ~ perc_fundraising_exp + tpscore + wking_cap_ratio + offers_services'\\\n",
    "#                        , data=df2, return_type=\"dataframe\")\n",
    "\n",
    "y, X = patsy.dmatrices(all_features\\\n",
    "                       , data=df2, return_type=\"dataframe\")"
   ]
  },
  {
   "cell_type": "code",
   "execution_count": 3823,
   "metadata": {},
   "outputs": [
    {
     "name": "stderr",
     "output_type": "stream",
     "text": [
      "/Users/laurachen/anaconda3/lib/python3.6/site-packages/ipykernel_launcher.py:3: FutureWarning: reshape is deprecated and will raise in a subsequent release. Please use .values.reshape(...) instead\n",
      "  This is separate from the ipykernel package so we can avoid doing imports until\n",
      "/Users/laurachen/anaconda3/lib/python3.6/site-packages/ipykernel_launcher.py:28: UserWarning: With alpha=0, this algorithm does not converge well. You are advised to use the LinearRegression estimator\n",
      "/Users/laurachen/anaconda3/lib/python3.6/site-packages/sklearn/linear_model/coordinate_descent.py:477: UserWarning: Coordinate descent with no regularization may lead to unexpected results and is discouraged.\n",
      "  positive)\n",
      "/Users/laurachen/anaconda3/lib/python3.6/site-packages/sklearn/linear_model/coordinate_descent.py:491: ConvergenceWarning: Objective did not converge. You might want to increase the number of iterations. Fitting data with very small alpha may cause precision problems.\n",
      "  ConvergenceWarning)\n"
     ]
    }
   ],
   "source": [
    "# Testing a few different alphas to select the one that minimizes MSE\n",
    "\n",
    "y = df2['perc_program_exp'].reshape(-1, 1)\n",
    "X = df2\n",
    "X=X.drop('perc_program_exp',axis=1)\n",
    "\n",
    "scalerX = StandardScaler()\n",
    "scalerY =  StandardScaler()\n",
    "X_trans = scalerX.fit_transform(X)\n",
    "y_trans = scalerY.fit_transform(y)\n",
    "\n",
    "kf = KFold(n_splits=5, shuffle=True)\n",
    "kf.get_n_splits()\n",
    "\n",
    "all_scores=[]\n",
    "alphas=[1e-5,1e-3,1e-1,0,1,100]\n",
    "\n",
    "\n",
    "for train, test in kf.split(X):\n",
    "    x_train=X_trans[train]\n",
    "    y_train=y_trans[train]\n",
    "    x_test=X_trans[test]\n",
    "    y_test=y_trans[test]\n",
    "    mse_score=[]\n",
    "    r2=[]\n",
    "    for a in alphas:\n",
    "        est=Lasso(alpha=a,tol=0.001)\n",
    "        est.fit(x_train,y_train)\n",
    "        mse=mean_squared_error(y_test,est.predict(x_test))\n",
    "        mse_score.append(mse)\n",
    "        r2.append(est.score(x_test,y_test))      \n",
    "    all_scores.append(mse_score)"
   ]
  },
  {
   "cell_type": "code",
   "execution_count": 3824,
   "metadata": {},
   "outputs": [
    {
     "name": "stderr",
     "output_type": "stream",
     "text": [
      "/Users/laurachen/anaconda3/lib/python3.6/site-packages/matplotlib/axes/_axes.py:545: UserWarning: No labelled objects found. Use label='...' kwarg on individual plots.\n",
      "  warnings.warn(\"No labelled objects found. \"\n"
     ]
    },
    {
     "data": {
      "text/plain": [
       "<matplotlib.text.Text at 0x1c961a7c18>"
      ]
     },
     "execution_count": 3824,
     "metadata": {},
     "output_type": "execute_result"
    },
    {
     "data": {
      "image/png": "[encoded data removed]",
      "text/plain": [
       "<matplotlib.figure.Figure at 0x1c961815f8>"
      ]
     },
     "metadata": {},
     "output_type": "display_data"
    }
   ],
   "source": [
    "# Visualizing the alphas\n",
    "plt.figure(figsize=(8,6))\n",
    "#plt.ylim(0,0.1)\n",
    "plt.legend()\n",
    "for i in range(5):\n",
    "    plt.plot(all_scores[i],label = 'cv %s'%i)\n",
    "    \n",
    "plt.legend()\n",
    "plt.ylabel('MSE')\n",
    "plt.title('Selecting the an alpha for Lasso Model')\n"
   ]
  },
  {
   "cell_type": "markdown",
   "metadata": {},
   "source": [
    "## Create Lasso using alpha = 1e-5 based on graph\n"
   ]
  },
  {
   "cell_type": "code",
   "execution_count": 3730,
   "metadata": {},
   "outputs": [
    {
     "name": "stdout",
     "output_type": "stream",
     "text": [
      "Average MSE 1.60450545038\n",
      "Average R^2 0.529669255092\n"
     ]
    }
   ],
   "source": [
    "kf = KFold(n_splits=5, shuffle=True)\n",
    "kf.get_n_splits()\n",
    "\n",
    "mse_score=[]\n",
    "r2=[]\n",
    "for train, test in kf.split(X):\n",
    "    x_train=X_trans[train]\n",
    "    y_train=y_trans[train]\n",
    "    x_test=X_trans[test]\n",
    "    y_test=y_trans[test]\n",
    "    est=Lasso(alpha=1e-5,tol=0.001)\n",
    "    est.fit(x_train,y_train)\n",
    "    se=(y_test-est.predict(x_test))**2\n",
    "    mse=np.mean(se)\n",
    "    mse_score.append(mse)\n",
    "    r2.append(est.score(x_test,y_test))\n",
    "\n",
    "print('Average MSE', np.mean(mse_score))\n",
    "print('Average R^2', np.mean(r2))\n"
   ]
  },
  {
   "cell_type": "code",
   "execution_count": 3731,
   "metadata": {},
   "outputs": [
    {
     "data": {
      "text/plain": [
       "[('tpscore', 0.066352066096892065),\n",
       " ('gov_funded', 0.052128279946547243),\n",
       " ('age', 0.017937629724333642),\n",
       " ('offers_services', -0.13002935998705878),\n",
       " ('wking_cap_ratio', -0.21645843473842108)]"
      ]
     },
     "execution_count": 3731,
     "metadata": {},
     "output_type": "execute_result"
    }
   ],
   "source": [
    "X_train, X_test, y_train, y_test = train_test_split(X_trans, y_trans, test_size=0.3, random_state=42)\n",
    "\n",
    "\n",
    "est2=Lasso(alpha=1e-5,fit_intercept=False)\n",
    "est2.fit(X_train,y_train)\n",
    "\n",
    "zipped=zip(X.columns,est.coef_)\n",
    "features=sorted(zipped,key = lambda t: t[1],reverse=True)\n",
    "features[:5]"
   ]
  },
  {
   "cell_type": "code",
   "execution_count": 3732,
   "metadata": {},
   "outputs": [
    {
     "data": {
      "text/plain": [
       "0.5249928682527667"
      ]
     },
     "execution_count": 3732,
     "metadata": {},
     "output_type": "execute_result"
    }
   ],
   "source": [
    "est2.score(X_test,y_test)"
   ]
  },
  {
   "cell_type": "code",
   "execution_count": 3718,
   "metadata": {},
   "outputs": [
    {
     "data": {
      "text/plain": [
       "<matplotlib.text.Text at 0x1c91985c50>"
      ]
     },
     "execution_count": 3718,
     "metadata": {},
     "output_type": "execute_result"
    },
    {
     "data": {
      "image/png": "[encoded data removed]",
      "text/plain": [
       "<matplotlib.figure.Figure at 0x1c914bd400>"
      ]
     },
     "metadata": {},
     "output_type": "display_data"
    }
   ],
   "source": [
    "y_pred=est2.predict(X_test)\n",
    "plt.scatter(y_test,y_pred)\n",
    "plt.title('Actual Value vs. Predicted Value')\n",
    "plt.xlabel('Y')\n",
    "plt.ylabel('Pred_Y')"
   ]
  },
  {
   "cell_type": "markdown",
   "metadata": {},
   "source": [
    "## Evaluating Regression Model"
   ]
  },
  {
   "cell_type": "markdown",
   "metadata": {},
   "source": [
    "Residuals vs. Predicted for Lasso "
   ]
  },
  {
   "cell_type": "code",
   "execution_count": 3719,
   "metadata": {},
   "outputs": [],
   "source": [
    "y_pred=est.predict(X_test)\n",
    "y_pred.shape\n",
    "df3=pd.DataFrame()\n",
    "df3['predict']=y_pred\n",
    "df3['y_test']=y_test"
   ]
  },
  {
   "cell_type": "code",
   "execution_count": 3720,
   "metadata": {},
   "outputs": [],
   "source": [
    "df3['resid']=df3['y_test']-df3['predict']"
   ]
  },
  {
   "cell_type": "code",
   "execution_count": 3796,
   "metadata": {},
   "outputs": [
    {
     "data": {
      "image/png": "[encoded data removed]",
      "text/plain": [
       "<matplotlib.figure.Figure at 0x1c9406a9e8>"
      ]
     },
     "metadata": {},
     "output_type": "display_data"
    }
   ],
   "source": [
    "df3.plot(kind='scatter', x='predict', y='resid', title='Residuals vs. Predicted',figsize=(10,5));\n",
    "resid_mean = [np.mean(df3.resid) for i in df3.predict]\n",
    "plt.plot(df3.predict,resid_mean, linestyle=':',color = 'r');"
   ]
  },
  {
   "cell_type": "markdown",
   "metadata": {},
   "source": [
    "Residuals vs. Predicted for OLS model"
   ]
  },
  {
   "cell_type": "code",
   "execution_count": 3809,
   "metadata": {},
   "outputs": [],
   "source": [
    "y, X = patsy.dmatrices('perc_program_exp ~ perc_fundraising_exp + tpscore + offers_services + gov_funded'\\\n",
    "                       , data=df2, return_type=\"dataframe\")\n",
    "\n",
    "X_train, X_test, y_train, y_test = train_test_split(X, y, test_size=0.33,random_state=42)\n",
    "\n",
    "model = sm.OLS(y_train, X_train)\n",
    "fit = model.fit()"
   ]
  },
  {
   "cell_type": "code",
   "execution_count": 3810,
   "metadata": {},
   "outputs": [],
   "source": [
    "y_pred=fit.predict(X_test)"
   ]
  },
  {
   "cell_type": "code",
   "execution_count": 3811,
   "metadata": {},
   "outputs": [],
   "source": [
    "df4=pd.DataFrame()\n",
    "df4['predict']=y_pred\n",
    "df4['resid']=y_test.perc_program_exp-df4['predict']"
   ]
  },
  {
   "cell_type": "code",
   "execution_count": 3812,
   "metadata": {},
   "outputs": [
    {
     "data": {
      "text/plain": [
       "[<matplotlib.lines.Line2D at 0x1c95652828>]"
      ]
     },
     "execution_count": 3812,
     "metadata": {},
     "output_type": "execute_result"
    },
    {
     "data": {
      "image/png": "[encoded data removed]",
      "text/plain": [
       "<matplotlib.figure.Figure at 0x1c95bebc18>"
      ]
     },
     "metadata": {},
     "output_type": "display_data"
    }
   ],
   "source": [
    "df4.plot(kind='scatter', x='predict', y='resid', title='Residuals vs. Predicted',figsize=(10,5));\n",
    "resid_mean = [np.mean(df4.resid) for i in df4.predict]\n",
    "plt.plot(df4.predict,resid_mean, linestyle=':',color = 'r')"
   ]
  },
  {
   "cell_type": "code",
   "execution_count": 2981,
   "metadata": {},
   "outputs": [
    {
     "data": {
      "text/plain": [
       "<matplotlib.axes._subplots.AxesSubplot at 0x1c80202f98>"
      ]
     },
     "execution_count": 2981,
     "metadata": {},
     "output_type": "execute_result"
    },
    {
     "data": {
      "image/png": "[encoded data removed]",
      "text/plain": [
       "<matplotlib.figure.Figure at 0x1c7fe0cef0>"
      ]
     },
     "metadata": {},
     "output_type": "display_data"
    }
   ],
   "source": [
    "df2.resid.hist(bins=30)"
   ]
  },
  {
   "cell_type": "markdown",
   "metadata": {},
   "source": [
    "# Experimenting with Polynomial Features"
   ]
  },
  {
   "cell_type": "code",
   "execution_count": 3658,
   "metadata": {},
   "outputs": [],
   "source": [
    "poly = PolynomialFeatures(2,interaction_only=True)\n",
    "X_trans=poly.fit_transform(X)\n",
    "X_trans=pd.DataFrame(X_trans)\n",
    "\n",
    "X_train, X_test, y_train, y_test = train_test_split(X_trans, y_trans, test_size=0.33,random_state=42)"
   ]
  },
  {
   "cell_type": "code",
   "execution_count": 3659,
   "metadata": {},
   "outputs": [
    {
     "name": "stderr",
     "output_type": "stream",
     "text": [
      "/Users/laurachen/anaconda3/lib/python3.6/site-packages/sklearn/linear_model/coordinate_descent.py:1094: DataConversionWarning: A column-vector y was passed when a 1d array was expected. Please change the shape of y to (n_samples, ), for example using ravel().\n",
      "  y = column_or_1d(y, warn=True)\n",
      "/Users/laurachen/anaconda3/lib/python3.6/site-packages/sklearn/linear_model/coordinate_descent.py:491: ConvergenceWarning: Objective did not converge. You might want to increase the number of iterations. Fitting data with very small alpha may cause precision problems.\n",
      "  ConvergenceWarning)\n"
     ]
    },
    {
     "data": {
      "text/plain": [
       "<matplotlib.collections.PathCollection at 0x1c8dca97b8>"
      ]
     },
     "execution_count": 3659,
     "metadata": {},
     "output_type": "execute_result"
    },
    {
     "data": {
      "image/png": "[encoded data removed]",
      "text/plain": [
       "<matplotlib.figure.Figure at 0x1c8c5d8cc0>"
      ]
     },
     "metadata": {},
     "output_type": "display_data"
    }
   ],
   "source": [
    "polynomial_features = PolynomialFeatures(degree=2,\\\n",
    "                                             interaction_only=True)\n",
    "linear_regression = LinearRegression(normalize=True)\n",
    "pipeline = Pipeline([(\"polynomial_features\", polynomial_features),\\\n",
    "                         (\"linear_regression\", linear_regression)])\n",
    "\n",
    "est=make_pipeline(PolynomialFeatures(2,interaction_only=True), LassoCV(cv=10))\n",
    "est=est.fit(X_trans, y_trans)\n",
    "plt.scatter(y_test,est.predict(X_test))"
   ]
  },
  {
   "cell_type": "code",
   "execution_count": 3660,
   "metadata": {},
   "outputs": [
    {
     "data": {
      "text/plain": [
       "0.54697633069169205"
      ]
     },
     "execution_count": 3660,
     "metadata": {},
     "output_type": "execute_result"
    }
   ],
   "source": [
    "est.score(X_trans,y_trans)"
   ]
  },
  {
   "cell_type": "code",
   "execution_count": 3673,
   "metadata": {},
   "outputs": [
    {
     "data": {
      "text/plain": [
       "(array([  1.,   0.,   1.,   1.,   2.,   4.,   4.,   6.,   9.,  16.,  24.,\n",
       "         27.,  33.,  40.,  33.,  29.,  15.,  10.,   8.,   7.]),\n",
       " array([-3.98258606, -3.67437223, -3.36615841, -3.05794458, -2.74973076,\n",
       "        -2.44151693, -2.1333031 , -1.82508928, -1.51687545, -1.20866163,\n",
       "        -0.9004478 , -0.59223397, -0.28402015,  0.02419368,  0.3324075 ,\n",
       "         0.64062133,  0.94883516,  1.25704898,  1.56526281,  1.87347663,\n",
       "         2.18169046]),\n",
       " <a list of 20 Patch objects>)"
      ]
     },
     "execution_count": 3673,
     "metadata": {},
     "output_type": "execute_result"
    },
    {
     "data": {
      "image/png": "[encoded data removed]",
      "text/plain": [
       "<matplotlib.figure.Figure at 0x1c90ec97b8>"
      ]
     },
     "metadata": {},
     "output_type": "display_data"
    }
   ],
   "source": [
    "plt.hist(y_trans,bins=20)"
   ]
  },
  {
   "cell_type": "code",
   "execution_count": null,
   "metadata": {
    "collapsed": true
   },
   "outputs": [],
   "source": [
    "sns.joinplot(kind='regplot')"
   ]
  }
 ],
 "metadata": {
  "kernelspec": {
   "display_name": "Python 3",
   "language": "python",
   "name": "python3"
  },
  "language_info": {
   "codemirror_mode": {
    "name": "ipython",
    "version": 3
   },
   "file_extension": ".py",
   "mimetype": "text/x-python",
   "name": "python",
   "nbconvert_exporter": "python",
   "pygments_lexer": "ipython3",
   "version": "3.6.2"
  }
 },
 "nbformat": 4,
 "nbformat_minor": 2
}
